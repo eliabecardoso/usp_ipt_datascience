{
 "cells": [
  {
   "cell_type": "markdown",
   "metadata": {},
   "source": [
    "# Numpy Basics\n",
    "\n",
    "\n"
   ]
  },
  {
   "cell_type": "markdown",
   "metadata": {},
   "source": [
    "NumPy is the fundamental package for scientific computing in Python. It is a Python library that provides a multidimensional array object, various derived objects, and an assortment of routines for fast operations on arrays, including mathematical, logical, shape manipulation, sorting, selecting, I/O, discrete Fourier transforms, basic linear algebra, basic statistical operations, random simulation and much more.\n",
    "fonte: https://numpy.org/"
   ]
  },
  {
   "cell_type": "code",
   "execution_count": 2,
   "metadata": {
    "collapsed": true
   },
   "outputs": [],
   "source": [
    "import numpy as np\n",
    "import math"
   ]
  },
  {
   "cell_type": "markdown",
   "metadata": {},
   "source": [
    "At the core of the NumPy package, is the ndarray object. This encapsulates n-dimensional arrays of homogeneous data types, with many operations being performed in compiled code for performance. "
   ]
  },
  {
   "cell_type": "markdown",
   "metadata": {},
   "source": [
    "Transformando uma lista e um array"
   ]
  },
  {
   "cell_type": "code",
   "execution_count": 4,
   "metadata": {},
   "outputs": [
    {
     "data": {
      "text/plain": [
       "array([1, 3, 4, 5])"
      ]
     },
     "execution_count": 4,
     "metadata": {},
     "output_type": "execute_result"
    }
   ],
   "source": [
    "la=np.array([1,3,4,5])\n",
    "la"
   ]
  },
  {
   "cell_type": "markdown",
   "metadata": {},
   "source": [
    "Diferente das listas, um slice em um array não gera uma cópia...assim o slice é uma \"view\" do array original. Vamos a um exemplo:"
   ]
  },
  {
   "cell_type": "code",
   "execution_count": 6,
   "metadata": {},
   "outputs": [
    {
     "name": "stdout",
     "output_type": "stream",
     "text": [
      "[1 3]\n"
     ]
    },
    {
     "data": {
      "text/plain": [
       "(array([42,  3,  4,  5]), array([42,  3]))"
      ]
     },
     "execution_count": 6,
     "metadata": {},
     "output_type": "execute_result"
    }
   ],
   "source": [
    "lb=la[:2]\n",
    "print(lb)\n",
    "la[0]=42\n",
    "la,lb\n",
    "\n"
   ]
  },
  {
   "cell_type": "markdown",
   "metadata": {},
   "source": [
    "Um array n-dimensional (bi-dimensional, por exemplo) pode ser criado também a partir de uma lista..vamos a um exemplo.."
   ]
  },
  {
   "cell_type": "code",
   "execution_count": 8,
   "metadata": {},
   "outputs": [
    {
     "data": {
      "text/plain": [
       "array([[1, 2],\n",
       "       [3, 9]])"
      ]
     },
     "execution_count": 8,
     "metadata": {},
     "output_type": "execute_result"
    }
   ],
   "source": [
    "m=[[1,2],[3,9]]\n",
    "ma=np.array(m)\n",
    "ma"
   ]
  },
  {
   "cell_type": "markdown",
   "metadata": {},
   "source": [
    "A indexação no array é feita por vírgulas. Exemplo, para acessar o elemento de índices 1,1 , podemos usar a[1,1], sendo a o array...exemplos."
   ]
  },
  {
   "cell_type": "code",
   "execution_count": 13,
   "metadata": {},
   "outputs": [
    {
     "data": {
      "text/plain": [
       "(array([[ 1,  2],\n",
       "        [90,  9]]), array([ 1, 90]))"
      ]
     },
     "execution_count": 13,
     "metadata": {},
     "output_type": "execute_result"
    }
   ],
   "source": [
    "ma[1,1],ma[:,0],ma[1,:]\n"
   ]
  },
  {
   "cell_type": "markdown",
   "metadata": {},
   "source": [
    "Produto interno entre dois vetores (de mesma dimensão) x (x1,x2,x3...,xn) e y (y1,y2,y3,..,yn) é dado por: x1y1+x2y2+x3y3+...+xnyn\n",
    "O produto interno entre x e y é simbolizado por &lsaquo;x,y&rsaquo;"
   ]
  },
  {
   "cell_type": "markdown",
   "metadata": {},
   "source": [
    "As duas listas lx e ly abaixo representam dois vetores x e y. Obtenha o produto interno deles (inner)"
   ]
  },
  {
   "cell_type": "code",
   "execution_count": 18,
   "metadata": {},
   "outputs": [
    {
     "data": {
      "text/plain": [
       "-12.75"
      ]
     },
     "execution_count": 18,
     "metadata": {},
     "output_type": "execute_result"
    }
   ],
   "source": [
    "lx=[1.0,5.5,7.0]\n",
    "ly=[0.0,1.5,-3.0]\n",
    "x=np.array(lx)\n",
    "y=np.array(ly)\n",
    "inner=0\n",
    "for i in range(len(x)):\n",
    "    inner+=x[i]*y[i]\n",
    "\n",
    "inner"
   ]
  },
  {
   "cell_type": "markdown",
   "metadata": {},
   "source": [
    "Agora vamos usar o numpy para obter o produto interno..."
   ]
  },
  {
   "cell_type": "code",
   "execution_count": 15,
   "metadata": {},
   "outputs": [
    {
     "name": "stdout",
     "output_type": "stream",
     "text": [
      "prod. interno  -12.75\n"
     ]
    }
   ],
   "source": [
    "x=np.array(lx)\n",
    "y=np.array(ly)\n",
    "print('prod. interno ',np.inner(x,y))"
   ]
  },
  {
   "cell_type": "markdown",
   "metadata": {},
   "source": [
    "Vamos obter a norma Euclidiana de um vetor x...ela é dada por raiz(&lsaquo;x,x&rsaquo;). É o \"módulo do vetor\".\n",
    "Exemplo, o vetor 4,3 tem norma 5...(Pitágoras..ah vá)...vamos obter a norma dele com numpy."
   ]
  },
  {
   "cell_type": "code",
   "execution_count": 19,
   "metadata": {},
   "outputs": [
    {
     "data": {
      "text/plain": [
       "5.0"
      ]
     },
     "execution_count": 19,
     "metadata": {},
     "output_type": "execute_result"
    }
   ],
   "source": [
    "x=np.array((3,4))\n",
    "math.sqrt(np.inner(x,x))"
   ]
  },
  {
   "cell_type": "code",
   "execution_count": 20,
   "metadata": {},
   "outputs": [
    {
     "data": {
      "text/plain": [
       "5.0"
      ]
     },
     "execution_count": 20,
     "metadata": {},
     "output_type": "execute_result"
    }
   ],
   "source": [
    "x=np.array((3,4))\n",
    "np.linalg.norm(x)"
   ]
  },
  {
   "cell_type": "markdown",
   "metadata": {},
   "source": [
    "O cosseno entre dois vetores x e y é dado por &lsaquo;x,y&rsaquo; /||x||.||y||  ||v|| é o módulo do vetor v\n",
    "Vamos fazer pela definição "
   ]
  },
  {
   "cell_type": "code",
   "execution_count": 21,
   "metadata": {},
   "outputs": [
    {
     "data": {
      "text/plain": [
       "1.0"
      ]
     },
     "execution_count": 21,
     "metadata": {},
     "output_type": "execute_result"
    }
   ],
   "source": [
    "x=np.array((3,3))\n",
    "y=np.array((5,5))\n",
    "cos=np.inner(x,y)/(np.linalg.norm(x)*np.linalg.norm(y))\n",
    "cos"
   ]
  },
  {
   "cell_type": "markdown",
   "metadata": {},
   "source": [
    "O cosseno pode ser uma medida de similaridade entre dois vetores. Primeiro vamos criar a função cosseno, que recebe dois vetores e devolve um número emtre -1 e 1"
   ]
  },
  {
   "cell_type": "code",
   "execution_count": 22,
   "metadata": {},
   "outputs": [
    {
     "data": {
      "text/plain": [
       "1.0"
      ]
     },
     "execution_count": 22,
     "metadata": {},
     "output_type": "execute_result"
    }
   ],
   "source": [
    "def cosseno(x,y):\n",
    "    return np.inner(x,y)/(np.linalg.norm(x)*np.linalg.norm(y))\n",
    "cosseno(x,y)"
   ]
  },
  {
   "cell_type": "markdown",
   "metadata": {},
   "source": [
    "A lista luser1, luser2 e luser3 mostra se esses usuários gostaram ou não dos filmes 0,1,2,3,4,5...\n",
    "Descubra quem é mais similar user1 e user2, user2 e user3 ou user1 e user3"
   ]
  },
  {
   "cell_type": "code",
   "execution_count": 28,
   "metadata": {},
   "outputs": [
    {
     "data": {
      "text/plain": [
       "(0.8164965809277259, 0.8660254037844387, 0.7071067811865475)"
      ]
     },
     "execution_count": 28,
     "metadata": {},
     "output_type": "execute_result"
    }
   ],
   "source": [
    "luser1=np.array([1,1,0,0,1])\n",
    "luser2=np.array([0,1,0,0,1])\n",
    "luser3=np.array([1,1,1,0,1])\n",
    "LU=np.array([luser1,luser2,luser3])\n",
    "sim12=cosseno(luser1,luser2)\n",
    "sim13=cosseno(luser1,luser3)\n",
    "sim23=cosseno(luser2,luser3)\n",
    "sim12,sim13,sim23"
   ]
  },
  {
   "cell_type": "markdown",
   "metadata": {},
   "source": [
    "Com um critério de similaridade entre vetores definido (cos, por exemplo), podemos criar uma matriz de similaridade. É uma matriz simétrica onde o elemento i,j é a similaridade entre os usuários(vetores) i e j. Na diagonal principal, obviamente, só há 1's.Vamos criar a matriz de similaridade para luser1,2 e 3.Partiremos de uma matriz identidade e usaremos a simetria."
   ]
  },
  {
   "cell_type": "code",
   "execution_count": 29,
   "metadata": {},
   "outputs": [
    {
     "data": {
      "text/plain": [
       "array([[1.        , 0.81649658, 0.8660254 ],\n",
       "       [0.81649658, 1.        , 0.70710678],\n",
       "       [0.8660254 , 0.70710678, 1.        ]])"
      ]
     },
     "execution_count": 29,
     "metadata": {},
     "output_type": "execute_result"
    }
   ],
   "source": [
    "WC=np.identity((3)) \n",
    "l,c=WC.shape\n",
    "for i in range(l):\n",
    "    for j in range(c):\n",
    "        if i<j:WC[i,j]=cosseno(LU[i],LU[j])\n",
    "        elif i>j:WC[i,j]=WC[j,i]\n",
    "WC"
   ]
  },
  {
   "cell_type": "markdown",
   "metadata": {},
   "source": [
    "Se multiplicarmos WC por LU, cada linha da matriz Resultante REC trará a \"intensidade\" da recomendação de cada filme para o usuário correspondente. Obviamente, temos que não considerar os filme já vistos. Esse algoritmo se chama: Collaborative Filtering User Based. Vamos obter com np.dot(WC,LU) o produto das suas matrizes.Qual filme você recomendaria para cada usuário?"
   ]
  },
  {
   "cell_type": "code",
   "execution_count": 30,
   "metadata": {},
   "outputs": [
    {
     "data": {
      "text/plain": [
       "array([[1.8660254 , 2.68252198, 0.8660254 , 0.        , 2.68252198],\n",
       "       [1.52360336, 2.52360336, 0.70710678, 0.        , 2.52360336],\n",
       "       [1.8660254 , 2.57313218, 1.        , 0.        , 2.57313218]])"
      ]
     },
     "execution_count": 30,
     "metadata": {},
     "output_type": "execute_result"
    }
   ],
   "source": [
    "REC=np.dot(WC,LU)\n",
    "REC"
   ]
  },
  {
   "cell_type": "markdown",
   "metadata": {},
   "source": [
    "Vamos obter automaticamente, o id do filme a ser recomendado. Inicialmente vamos trocar os zeros por 1´s e vice versa na matriz LU. Depois multiplicaremos 1 a 1 os elementos de LU e REC....Finalmente, pegaremos o índice com np.argmax(), que devolve o índice de maior valor no vetor. "
   ]
  },
  {
   "cell_type": "code",
   "execution_count": 33,
   "metadata": {},
   "outputs": [
    {
     "name": "stdout",
     "output_type": "stream",
     "text": [
      "[[0 0 1 1 0]\n",
      " [1 0 1 1 0]\n",
      " [0 0 0 1 0]]\n"
     ]
    }
   ],
   "source": [
    "LU2=-1*(LU-1)\n",
    "print(LU2)"
   ]
  },
  {
   "cell_type": "code",
   "execution_count": 34,
   "metadata": {},
   "outputs": [
    {
     "data": {
      "text/plain": [
       "array([[0.        , 0.        , 0.8660254 , 0.        , 0.        ],\n",
       "       [1.52360336, 0.        , 0.70710678, 0.        , 0.        ],\n",
       "       [0.        , 0.        , 0.        , 0.        , 0.        ]])"
      ]
     },
     "execution_count": 34,
     "metadata": {},
     "output_type": "execute_result"
    }
   ],
   "source": [
    "REC2=REC*LU2 \n",
    "REC2"
   ]
  },
  {
   "cell_type": "code",
   "execution_count": 38,
   "metadata": {},
   "outputs": [
    {
     "data": {
      "text/plain": [
       "[(2, 0.8660254037844387), (0, 1.5236033621142733), (0, 0.0)]"
      ]
     },
     "execution_count": 38,
     "metadata": {},
     "output_type": "execute_result"
    }
   ],
   "source": [
    "lrec=[(np.argmax(REC2[i]),REC2[i,np.argmax(REC2[i])]) for i in range(len(REC2))]\n",
    "lrec"
   ]
  },
  {
   "cell_type": "markdown",
   "metadata": {},
   "source": [
    "Com numpy, podemos fazer coisas simples como multiplicar um escalar por um vetor..."
   ]
  },
  {
   "cell_type": "code",
   "execution_count": 39,
   "metadata": {},
   "outputs": [
    {
     "data": {
      "text/plain": [
       "array([ 3,  6,  9, 12])"
      ]
     },
     "execution_count": 39,
     "metadata": {},
     "output_type": "execute_result"
    }
   ],
   "source": [
    "x=np.array([1,2,3,4])\n",
    "x=3*x\n",
    "x"
   ]
  },
  {
   "cell_type": "markdown",
   "metadata": {},
   "source": [
    "Somar vetores"
   ]
  },
  {
   "cell_type": "code",
   "execution_count": 45,
   "metadata": {},
   "outputs": [
    {
     "data": {
      "text/plain": [
       "array([2., 3., 4., 5.])"
      ]
     },
     "execution_count": 45,
     "metadata": {},
     "output_type": "execute_result"
    }
   ],
   "source": [
    "x=np.array([1,2,3,4])\n",
    "y=np.ones((4,)) #tente com (4,1)\n",
    "x+y"
   ]
  },
  {
   "cell_type": "markdown",
   "metadata": {},
   "source": [
    "Vamos criar uma matriz, partindo de uma lista de linhas"
   ]
  },
  {
   "cell_type": "code",
   "execution_count": 46,
   "metadata": {},
   "outputs": [
    {
     "data": {
      "text/plain": [
       "array([[1, 2, 3],\n",
       "       [3, 5, 0],\n",
       "       [1, 0, 3]])"
      ]
     },
     "execution_count": 46,
     "metadata": {},
     "output_type": "execute_result"
    }
   ],
   "source": [
    "m=np.array([[1,2,3],[3,5,0],[1,0,3]])\n",
    "m"
   ]
  },
  {
   "cell_type": "markdown",
   "metadata": {},
   "source": [
    "Vamos obter a transposta de m \"na mão\""
   ]
  },
  {
   "cell_type": "code",
   "execution_count": 47,
   "metadata": {},
   "outputs": [
    {
     "data": {
      "text/plain": [
       "array([[1., 3., 1.],\n",
       "       [2., 5., 0.],\n",
       "       [3., 0., 3.]])"
      ]
     },
     "execution_count": 47,
     "metadata": {},
     "output_type": "execute_result"
    }
   ],
   "source": [
    "lin,col=m.shape\n",
    "mt=np.zeros((lin,col))\n",
    "for i in range(lin):\n",
    "    for j in range(col):\n",
    "        mt[i,j]=m[j,i]\n",
    "mt"
   ]
  },
  {
   "cell_type": "code",
   "execution_count": 48,
   "metadata": {},
   "outputs": [
    {
     "data": {
      "text/plain": [
       "array([[1, 3, 1],\n",
       "       [2, 5, 0],\n",
       "       [3, 0, 3]])"
      ]
     },
     "execution_count": 48,
     "metadata": {},
     "output_type": "execute_result"
    }
   ],
   "source": [
    "mt=m.T\n",
    "mt=m.transpose()\n",
    "mt"
   ]
  },
  {
   "cell_type": "markdown",
   "metadata": {},
   "source": [
    "Podemos fazer, com numpy, várias operações que envolvem matrizes...soma, multiplicação...etc"
   ]
  },
  {
   "cell_type": "code",
   "execution_count": 49,
   "metadata": {
    "collapsed": true
   },
   "outputs": [],
   "source": [
    "m1=np.array([[1,2],[2,8]])\n",
    "m2=np.array([[0,1],[5,2]])"
   ]
  },
  {
   "cell_type": "code",
   "execution_count": 46,
   "metadata": {},
   "outputs": [
    {
     "name": "stdout",
     "output_type": "stream",
     "text": [
      "[[ 1  3]\n",
      " [ 7 10]]\n"
     ]
    }
   ],
   "source": [
    "print(m1+m2)"
   ]
  },
  {
   "cell_type": "code",
   "execution_count": 50,
   "metadata": {},
   "outputs": [
    {
     "name": "stdout",
     "output_type": "stream",
     "text": [
      "[[ 0  2]\n",
      " [10 16]]\n"
     ]
    }
   ],
   "source": [
    "print(m1*m2) #eis a pegadinha..esse produto multiplica 1 a 1 os elementos das matrizes"
   ]
  },
  {
   "cell_type": "code",
   "execution_count": 51,
   "metadata": {},
   "outputs": [
    {
     "name": "stdout",
     "output_type": "stream",
     "text": [
      "[[10  5]\n",
      " [40 18]]\n"
     ]
    }
   ],
   "source": [
    "print(np.dot(m1,m2)) #Agora sim...o produto de duas matrizes"
   ]
  },
  {
   "cell_type": "markdown",
   "metadata": {},
   "source": [
    "Podemos também (quando possível) inverter uma matriz"
   ]
  },
  {
   "cell_type": "code",
   "execution_count": 53,
   "metadata": {},
   "outputs": [
    {
     "name": "stdout",
     "output_type": "stream",
     "text": [
      "[[1 2]\n",
      " [2 8]]\n",
      "[[ 2.   -0.5 ]\n",
      " [-0.5   0.25]]\n"
     ]
    }
   ],
   "source": [
    "m1_inv=np.linalg.inv(m1)\n",
    "print(m1)\n",
    "print(m1_inv)"
   ]
  },
  {
   "cell_type": "markdown",
   "metadata": {},
   "source": [
    "Mostre que m1_inv é de fato a inversa de m1..."
   ]
  },
  {
   "cell_type": "code",
   "execution_count": 54,
   "metadata": {},
   "outputs": [
    {
     "data": {
      "text/plain": [
       "array([[1., 0.],\n",
       "       [0., 1.]])"
      ]
     },
     "execution_count": 54,
     "metadata": {},
     "output_type": "execute_result"
    }
   ],
   "source": [
    "np.dot(m1_inv,m1)"
   ]
  },
  {
   "cell_type": "markdown",
   "metadata": {},
   "source": [
    "Resolva o sistema de equações lineares abaixo com numpy<br/>\n",
    "3x+y=10<br/>\n",
    "x-y=-2"
   ]
  },
  {
   "cell_type": "code",
   "execution_count": 55,
   "metadata": {},
   "outputs": [
    {
     "data": {
      "text/plain": [
       "array([2., 4.])"
      ]
     },
     "execution_count": 55,
     "metadata": {},
     "output_type": "execute_result"
    }
   ],
   "source": [
    "A=np.array([[3,1],[1,-1]])\n",
    "b=np.array([10,-2])\n",
    "Ainv=np.linalg.inv(A)\n",
    "x=np.dot(Ainv,b)\n",
    "x\n"
   ]
  },
  {
   "cell_type": "markdown",
   "metadata": {},
   "source": [
    "Mudar o formato de vetores é algo também usual com numpy. Por exemplo, uma imagem pode ser transformada em um vetor unidimensional para ser passada para uma função.Vamos abrir a foto do link e transformála em vetor...mostramos a primeira linha da foto e o vetor."
   ]
  },
  {
   "cell_type": "code",
   "execution_count": 59,
   "metadata": {},
   "outputs": [
    {
     "data": {
      "image/png": "[encoded data removed]",
      "text/plain": [
       "<Figure size 432x288 with 1 Axes>"
      ]
     },
     "metadata": {},
     "output_type": "display_data"
    }
   ],
   "source": [
    "img=plt.imread('http://www.linkededucation.com.br/dsipt/formula1.png')\n",
    "plt.imshow(img)\n",
    "plt.show()"
   ]
  },
  {
   "cell_type": "code",
   "execution_count": 79,
   "metadata": {},
   "outputs": [
    {
     "name": "stdout",
     "output_type": "stream",
     "text": [
      "(662, 540, 4)\n"
     ]
    },
    {
     "data": {
      "text/plain": [
       "(array([0.8509804 , 0.85490197, 0.87058824, 0.89411765, 0.9019608 ,\n",
       "        0.8901961 , 0.8862745 , 0.8862745 , 0.8980392 , 0.9098039 ],\n",
       "       dtype=float32),\n",
       " array([0.8509804 , 0.85490197, 0.87058824, 0.89411765, 0.9019608 ,\n",
       "        0.8901961 , 0.8862745 , 0.8862745 , 0.8980392 , 0.9098039 ],\n",
       "       dtype=float32))"
      ]
     },
     "execution_count": 79,
     "metadata": {},
     "output_type": "execute_result"
    }
   ],
   "source": [
    "print(img.shape)\n",
    "img2=img[:,:,0].copy()\n",
    "w,h=img2.shape\n",
    "vet=img2.reshape((w*h,))\n",
    "vet[:10],img2[0,:10]"
   ]
  },
  {
   "cell_type": "markdown",
   "metadata": {},
   "source": [
    "Vamos criar um perceptron (?) com numpy. O perceptron receberá os pesos, o bias, os inputs e a função ativadora (note que passamos a função como parâmetro no percepron)\n",
    "...e devolverá o output...com vários perceptrons ligados, criamos uma rede neural"
   ]
  },
  {
   "cell_type": "code",
   "execution_count": 56,
   "metadata": {
    "collapsed": true
   },
   "outputs": [],
   "source": [
    "def sig(x):\n",
    "    return 1/(1+math.exp(-x))\n",
    "\n",
    "def perceptron(w,input,fativ):\n",
    "    i2=np.array([1]+input)\n",
    "    w=np.array(w)\n",
    "    somat=np.inner(w,i2)\n",
    "    return fativ(somat)  \n",
    "\n",
    "    "
   ]
  },
  {
   "cell_type": "code",
   "execution_count": 57,
   "metadata": {},
   "outputs": [
    {
     "data": {
      "image/png": "[encoded data removed]",
      "text/plain": [
       "<Figure size 432x288 with 1 Axes>"
      ]
     },
     "metadata": {},
     "output_type": "display_data"
    }
   ],
   "source": [
    "import matplotlib.pyplot as plt\n",
    "lx=[i for i in range(-10,11)]\n",
    "ly=[sig(v) for v in lx]\n",
    "plt.plot(lx,ly)\n",
    "plt.title('Sigmoid')\n",
    "plt.show()"
   ]
  },
  {
   "cell_type": "code",
   "execution_count": 67,
   "metadata": {},
   "outputs": [
    {
     "name": "stdout",
     "output_type": "stream",
     "text": [
      "Corolla 2016 km 40 Valor (R$x1000):69.1633092327\n"
     ]
    }
   ],
   "source": [
    "\n",
    "input=[16,40]\n",
    "w1=[-13.23,1.35,-0.144]\n",
    "w2=[-53.9,3.62,0.022]\n",
    "w3=[52.471,7.04,10.21]\n",
    "o1=perceptron(w1,input,sig)\n",
    "o2=perceptron(w2,input,sig)\n",
    "o3=perceptron(w3,[o1,o2],lambda x:x)\n",
    "print('Corolla 20'+str(input[0])+' km '+str(input[1])+' Valor (R$x1000):'+str(o3))"
   ]
  },
  {
   "cell_type": "markdown",
   "metadata": {},
   "source": [
    "Agora vamos pegar os pesos da rede neural da planilha corolla e gerar a rede"
   ]
  }
 ],
 "metadata": {
  "kernelspec": {
   "display_name": "Python 3",
   "language": "python",
   "name": "python3"
  },
  "language_info": {
   "codemirror_mode": {
    "name": "ipython",
    "version": 3
   },
   "file_extension": ".py",
   "mimetype": "text/x-python",
   "name": "python",
   "nbconvert_exporter": "python",
   "pygments_lexer": "ipython3",
   "version": "3.6.3"
  }
 },
 "nbformat": 4,
 "nbformat_minor": 2
}
