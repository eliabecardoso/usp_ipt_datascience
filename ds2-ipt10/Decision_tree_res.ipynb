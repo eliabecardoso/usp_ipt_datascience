{
 "cells": [
  {
   "cell_type": "markdown",
   "metadata": {},
   "source": [
    "# Decision Tree_res\n"
   ]
  },
  {
   "cell_type": "code",
   "execution_count": 1,
   "metadata": {
    "collapsed": true
   },
   "outputs": [],
   "source": [
    "from sklearn import tree\n",
    "import numpy as np"
   ]
  },
  {
   "cell_type": "code",
   "execution_count": 2,
   "metadata": {
    "collapsed": true
   },
   "outputs": [],
   "source": [
    "def get_code(treex, feature_names):\n",
    "    \n",
    "    '''\n",
    "      mostra a decisão da árvore...adaptado de ?\n",
    "    '''\n",
    "    left      = treex.children_left\n",
    "    right     = treex.children_right\n",
    "    threshold = treex.threshold\n",
    "    features  = [feature_names[i] for i in treex.feature]\n",
    "    value = treex.value\n",
    "\n",
    "    def recurse(left, right, threshold, features, node):\n",
    "            if (threshold[node] != -2):\n",
    "                    print (\"if ( \" + features[node] + \" <= \" + str(threshold[node]) + \" ) {\")\n",
    "                    if left[node] != -1:\n",
    "                            recurse (left, right, threshold, features,left[node])\n",
    "                    print (\"} else {\")\n",
    "                    if right[node] != -1:\n",
    "                            recurse (left, right, threshold, features,right[node])\n",
    "                    print( \"}\")\n",
    "            else:\n",
    "                    print( \"return \" + str(value[node]))\n",
    "\n",
    "    recurse(left, right, threshold, features, 0)\n",
    "\n",
    "\n",
    "\n"
   ]
  },
  {
   "cell_type": "code",
   "execution_count": 4,
   "metadata": {},
   "outputs": [
    {
     "name": "stdout",
     "output_type": "stream",
     "text": [
      "[1]\n",
      "[0. 0. 1.]\n",
      "if ( anos <= 1.5 ) {\n",
      "return [[2. 0.]]\n",
      "} else {\n",
      "if ( anos <= 3.0 ) {\n",
      "return [[1. 2.]]\n",
      "} else {\n",
      "return [[0. 2.]]\n",
      "}\n",
      "}\n"
     ]
    }
   ],
   "source": [
    "# As features são salário, clt ou não e tempo no cargo\n",
    "\n",
    "# Observe que não houve standardization...\n",
    "\n",
    "\n",
    "X =np.array( [[1000, 1,4],\n",
    "     [2000, 0,1],\n",
    "     [3000, 1,2],\n",
    "     [4000, 1,2],\n",
    "     [5000, 0,4],\n",
    "     [6000, 1,2],\n",
    "     [7000, 0,1]] )                \n",
    "     \n",
    "Y=np.array([1,0,1,0,1,1,0]) \n",
    "\n",
    "\n",
    "\n",
    "clf = tree.DecisionTreeClassifier(max_depth=2,random_state=51)\n",
    "clf = clf.fit(X, Y)\n",
    "print(clf.predict([[500,0,12.8]]))\n",
    "print(clf.feature_importances_)\n",
    "get_code(clf.tree_, [\"sal\",\"clt\",\"anos\"])\n",
    "\n",
    "#Observe que a feature tempo é totalmente classifcadora"
   ]
  },
  {
   "cell_type": "markdown",
   "metadata": {},
   "source": [
    "Mude o target para a feture salário influenciar mais que as outras, mas não 100%"
   ]
  },
  {
   "cell_type": "code",
   "execution_count": 16,
   "metadata": {},
   "outputs": [
    {
     "name": "stdout",
     "output_type": "stream",
     "text": [
      "[0]\n",
      "[0.5625 0.     0.4375]\n",
      "if ( sal <= 3500.0 ) {\n",
      "return [[3. 0.]]\n",
      "} else {\n",
      "if ( anos <= 3.0 ) {\n",
      "return [[0. 3.]]\n",
      "} else {\n",
      "return [[1. 0.]]\n",
      "}\n",
      "}\n"
     ]
    }
   ],
   "source": [
    "       \n",
    "     \n",
    "Y=np.array([0,0,0,1,0,1,1]) \n",
    "\n",
    "\n",
    "\n",
    "clf = tree.DecisionTreeClassifier(max_depth=2,random_state=51)\n",
    "clf = clf.fit(X, Y)\n",
    "print(clf.predict([[500,0,12.8]]))\n",
    "print(clf.feature_importances_)\n",
    "get_code(clf.tree_, [\"sal\",\"clt\",\"anos\"])\n"
   ]
  },
  {
   "cell_type": "markdown",
   "metadata": {},
   "source": [
    "Forçar nível único...observar a feature importance"
   ]
  },
  {
   "cell_type": "code",
   "execution_count": 17,
   "metadata": {},
   "outputs": [
    {
     "name": "stdout",
     "output_type": "stream",
     "text": [
      "[0]\n",
      "[1. 0. 0.]\n",
      "if ( sal <= 3500.0 ) {\n",
      "return [[3. 0.]]\n",
      "} else {\n",
      "return [[1. 3.]]\n",
      "}\n"
     ]
    }
   ],
   "source": [
    "clf = tree.DecisionTreeClassifier(max_depth=1,random_state=51)\n",
    "clf = clf.fit(X, Y)\n",
    "print(clf.predict([[500,0,12.8]]))\n",
    "print(clf.feature_importances_)\n",
    "get_code(clf.tree_, [\"sal\",\"clt\",\"anos\"])"
   ]
  }
 ],
 "metadata": {
  "kernelspec": {
   "display_name": "Python 3",
   "language": "python",
   "name": "python3"
  },
  "language_info": {
   "codemirror_mode": {
    "name": "ipython",
    "version": 3
   },
   "file_extension": ".py",
   "mimetype": "text/x-python",
   "name": "python",
   "nbconvert_exporter": "python",
   "pygments_lexer": "ipython3",
   "version": "3.6.3"
  }
 },
 "nbformat": 4,
 "nbformat_minor": 2
}
