{
 "cells": [
  {
   "cell_type": "markdown",
   "metadata": {},
   "source": [
    "# Bagging res"
   ]
  },
  {
   "cell_type": "code",
   "execution_count": 29,
   "metadata": {
    "collapsed": true
   },
   "outputs": [],
   "source": [
    "import random\n",
    "from sklearn.metrics import mean_squared_error\n",
    "import matplotlib.pyplot as plt\n",
    "import numpy as np\n",
    "from sklearn import linear_model"
   ]
  },
  {
   "cell_type": "code",
   "execution_count": 30,
   "metadata": {
    "collapsed": true
   },
   "outputs": [],
   "source": [
    "#abrindo o dataset sem o pandas\n",
    "arq = open('c:\\\\dados\\\\quad_100.csv', 'r')\n",
    "texto = arq.readlines()\n",
    "arq.close()"
   ]
  },
  {
   "cell_type": "code",
   "execution_count": 31,
   "metadata": {
    "collapsed": true
   },
   "outputs": [],
   "source": [
    "lx1=[]\n",
    "lx2=[]\n",
    "lx3=[]\n",
    "lx4=[]\n",
    "lx5=[]\n",
    "ly=[]\n",
    "\n",
    "for l in texto:\n",
    "   l1=l.split(\";\")\n",
    "   lx1.append(float(l1[0]))\n",
    "   lx2.append(float(l1[0])**2)\n",
    "   lx3.append(float(l1[0])**3)\n",
    "   lx4.append(float(l1[0])**3.5)\n",
    "   lx5.append(float(l1[0])**4.5)\n",
    "   ly.append(float(l1[1]))\n",
    "   \n"
   ]
  },
  {
   "cell_type": "code",
   "execution_count": 32,
   "metadata": {},
   "outputs": [
    {
     "data": {
      "image/png": "[encoded data removed]",
      "text/plain": [
       "<Figure size 432x288 with 1 Axes>"
      ]
     },
     "metadata": {},
     "output_type": "display_data"
    },
    {
     "data": {
      "text/plain": [
       "3.743441165331958"
      ]
     },
     "execution_count": 32,
     "metadata": {},
     "output_type": "execute_result"
    }
   ],
   "source": [
    "X=np.zeros((len(lx1),5))\n",
    "X[:,0]=np.array(lx1)\n",
    "X[:,1]=np.array(lx2)\n",
    "X[:,2]=np.array(lx3)\n",
    "X[:,3]=np.array(lx4)\n",
    "X[:,4]=np.array(lx5)\n",
    "y=np.array(ly)\n",
    "reg = linear_model.LinearRegression()\n",
    "reg.fit(X,y)\n",
    "ye=reg.predict(X)\n",
    "plt.plot(lx1,ly,'bo')\n",
    "plt.plot(lx1,ye,'ro')\n",
    "plt.show()\n",
    "mean_squared_error(ye,y)"
   ]
  },
  {
   "cell_type": "markdown",
   "metadata": {},
   "source": [
    "Obtenha o erro médio para 50 estimadores feitos com bagging"
   ]
  },
  {
   "cell_type": "code",
   "execution_count": 34,
   "metadata": {},
   "outputs": [
    {
     "name": "stdout",
     "output_type": "stream",
     "text": [
      "3.7446683009471453\n"
     ]
    }
   ],
   "source": [
    "l_index=[i for i in range(len(y))]\n",
    "yeb=np.zeros((100,))\n",
    "for i in range(50):\n",
    "    l_r=random.choices(l_index,k=100)\n",
    "    XN=[X[i] for i in l_r]\n",
    "    yn=[y[i] for i in l_r]\n",
    "    XN=np.array(XN)\n",
    "    yn=np.array(yn)\n",
    "    reg.fit(XN,yn)\n",
    "    yeb+=reg.predict(X)\n",
    "yeb/=50\n",
    "print(mean_squared_error(yeb,y))\n",
    "\n"
   ]
  }
 ],
 "metadata": {
  "kernelspec": {
   "display_name": "Python 3",
   "language": "python",
   "name": "python3"
  },
  "language_info": {
   "codemirror_mode": {
    "name": "ipython",
    "version": 3
   },
   "file_extension": ".py",
   "mimetype": "text/x-python",
   "name": "python",
   "nbconvert_exporter": "python",
   "pygments_lexer": "ipython3",
   "version": "3.6.3"
  }
 },
 "nbformat": 4,
 "nbformat_minor": 2
}
