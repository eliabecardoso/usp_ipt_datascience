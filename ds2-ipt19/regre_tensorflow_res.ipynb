{
  "nbformat": 4,
  "nbformat_minor": 0,
  "metadata": {
    "kernelspec": {
      "display_name": "Python 3",
      "language": "python",
      "name": "python3"
    },
    "language_info": {
      "codemirror_mode": {
        "name": "ipython",
        "version": 3
      },
      "file_extension": ".py",
      "mimetype": "text/x-python",
      "name": "python",
      "nbconvert_exporter": "python",
      "pygments_lexer": "ipython3",
      "version": "3.7.3"
    },
    "colab": {
      "name": "regre_tensorflow_res.ipynb",
      "provenance": []
    }
  },
  "cells": [
    {
      "cell_type": "code",
      "metadata": {
        "id": "ObN8_efQst0i",
        "colab_type": "code",
        "colab": {}
      },
      "source": [
        "import tensorflow as tf\n",
        "import numpy as np\n",
        "import matplotlib.pyplot as plt"
      ],
      "execution_count": 0,
      "outputs": []
    },
    {
      "cell_type": "code",
      "metadata": {
        "id": "EDxfnpf5st0o",
        "colab_type": "code",
        "colab": {
          "base_uri": "https://localhost:8080/",
          "height": 35
        },
        "outputId": "f9e463eb-a692-4076-af57-04f7b7997343"
      },
      "source": [
        "X=np.array([[1.0],[2.0],[3.0],[4.0],[5.0]])\n",
        "Y=np.array([[2.2],[4.8],[7.1],[8.8],[10.1]])\n",
        "x=tf.placeholder(dtype=tf.float64,shape=[None,1])\n",
        "y=tf.placeholder(dtype=tf.float64,shape=[None,1])\n",
        "a=tf.Variable(0.5,dtype=tf.float64)\n",
        "b=tf.Variable(0.5,dtype=tf.float64)\n",
        "X.shape"
      ],
      "execution_count": 16,
      "outputs": [
        {
          "output_type": "execute_result",
          "data": {
            "text/plain": [
              "(5, 1)"
            ]
          },
          "metadata": {
            "tags": []
          },
          "execution_count": 16
        }
      ]
    },
    {
      "cell_type": "code",
      "metadata": {
        "id": "kVRN2uKdtBck",
        "colab_type": "code",
        "colab": {
          "base_uri": "https://localhost:8080/",
          "height": 265
        },
        "outputId": "cdb3af30-cee1-408b-826a-a6338fb1859d"
      },
      "source": [
        "for i in range(len(X)):\n",
        "  plt.plot(X[i,0],Y[i,0],'bo')\n",
        "plt.show()  "
      ],
      "execution_count": 5,
      "outputs": [
        {
          "output_type": "display_data",
          "data": {
            "image/png": "[encoded data removed]",
            "text/plain": [
              "<Figure size 432x288 with 1 Axes>"
            ]
          },
          "metadata": {
            "tags": []
          }
        }
      ]
    },
    {
      "cell_type": "code",
      "metadata": {
        "id": "8LwF1fC-tcR6",
        "colab_type": "code",
        "colab": {
          "base_uri": "https://localhost:8080/",
          "height": 399
        },
        "outputId": "fb86d701-46ac-4ed6-c5c5-2b46ac634559"
      },
      "source": [
        "y_pred = tf.add(tf.multiply(x, a), b) \n",
        "loss=tf.reduce_mean(0.5*tf.multiply((y_pred-Y),(y_pred-Y)))\n",
        "optimizer = tf.train.GradientDescentOptimizer(0.01).minimize(loss) \n",
        "epochs=2000\n",
        "with tf.Session() as sess:\n",
        "  sess.run(tf.initializers.global_variables())\n",
        "  for i in range(epochs):\n",
        "    sess.run(optimizer,feed_dict={x:X,y:Y})\n",
        "    if i%100==0:print(sess.run(loss, feed_dict = {x : X, y : Y}) )\n",
        "  ye=sess.run(y_pred,feed_dict = {x : X})\n",
        "  print(sess.run(a),sess.run(b))\n"
      ],
      "execution_count": 31,
      "outputs": [
        {
          "output_type": "stream",
          "text": [
            "10.002104539527497\n",
            "0.07708424688215201\n",
            "0.07608399856755474\n",
            "0.07537089893328193\n",
            "0.07486251402591831\n",
            "0.07450007489173135\n",
            "0.07424168381031296\n",
            "0.07405747094625185\n",
            "0.07392614141622567\n",
            "0.07383251361479719\n",
            "0.0737657642310251\n",
            "0.07371817708099067\n",
            "0.07368425112212136\n",
            "0.07366006453636538\n",
            "0.07364282137065889\n",
            "0.07363052832663124\n",
            "0.07362176433665153\n",
            "0.07361551628936631\n",
            "0.07361106191470719\n",
            "0.07360788628995635\n",
            "1.9778192522439149 0.6678731913469833\n"
          ],
          "name": "stdout"
        }
      ]
    },
    {
      "cell_type": "code",
      "metadata": {
        "id": "8A_a3g_2yT5f",
        "colab_type": "code",
        "colab": {
          "base_uri": "https://localhost:8080/",
          "height": 265
        },
        "outputId": "02fa497e-15e2-47ab-e3f5-37cb9619d733"
      },
      "source": [
        "for i in range(len(X)):\n",
        "  plt.plot(X[i,0],Y[i,0],'bo')\n",
        "  plt.plot(X[i,0],ye[i,0],'ro')\n",
        "plt.show()  \n"
      ],
      "execution_count": 32,
      "outputs": [
        {
          "output_type": "display_data",
          "data": {
            "image/png": "[encoded data removed]",
            "text/plain": [
              "<Figure size 432x288 with 1 Axes>"
            ]
          },
          "metadata": {
            "tags": []
          }
        }
      ]
    },
    {
      "cell_type": "code",
      "metadata": {
        "id": "SOkQ76X0uabn",
        "colab_type": "code",
        "colab": {}
      },
      "source": [
        ""
      ],
      "execution_count": 0,
      "outputs": []
    }
  ]
}