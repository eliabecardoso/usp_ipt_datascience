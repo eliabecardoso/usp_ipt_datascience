{
 "cells": [
  {
   "cell_type": "markdown",
   "metadata": {},
   "source": [
    "# Rede Neural para identificar dígitos feitos à mão"
   ]
  },
  {
   "cell_type": "code",
   "execution_count": 1,
   "metadata": {
    "collapsed": true
   },
   "outputs": [],
   "source": [
    "# -*- coding: utf-8 -*-\n",
    "\"\"\"\n",
    "\n",
    "Linked Education\n",
    "\n",
    "\"\"\"\n",
    "import numpy as np\n",
    "from sklearn.model_selection import train_test_split\n",
    "from sklearn.datasets import load_digits\n",
    "from sklearn.neural_network import MLPClassifier\n",
    "import matplotlib.pyplot as plt\n",
    "import random as r\n",
    "from sklearn.metrics import accuracy_score\n"
   ]
  },
  {
   "cell_type": "code",
   "execution_count": 5,
   "metadata": {
    "collapsed": true
   },
   "outputs": [
    {
     "data": {
      "image/png": "[encoded data removed]",
      "text/plain": [
       "<Figure size 432x288 with 1 Axes>"
      ]
     },
     "metadata": {},
     "output_type": "display_data"
    },
    {
     "name": "stdout",
     "output_type": "stream",
     "text": [
      "[178, 182, 177, 183, 181, 182, 181, 179, 174, 180]\n",
      "acurácia amostra toda  1.0\n",
      "acurácia amostra split  0.994991652754591\n"
     ]
    }
   ],
   "source": [
    "\n",
    "\n",
    "#importa a base de dígitos em formato \"dataset\"\n",
    "\n",
    "#importa a base de dígitos em tupla\n",
    "\n",
    "digits1 = load_digits(return_X_y=True)\n",
    "# em digits1[0] : vetores da imagem\n",
    "# em digits1[1] : classes reais das imagens (dígitos)\n",
    "X=np.array(list(digits1[0]))\n",
    "\n",
    "Y=np.array(list(digits1[1]))\n",
    "\n",
    "plt.gray() \n",
    "plt.imshow(X[0].reshape((8,8))) \n",
    "plt.show() \n",
    "\n",
    "#Obtenha a quantidade de amostras por classe\n",
    "\n",
    "#Obtenha acurácia com amostra toda e com split 70 30\n",
    "\n",
    "#evolua o modelo\n",
    "\n"
   ]
  },
  {
   "cell_type": "markdown",
   "metadata": {},
   "source": [
    "Tente melhorar!"
   ]
  },
  {
   "cell_type": "code",
   "execution_count": null,
   "metadata": {
    "collapsed": true
   },
   "outputs": [],
   "source": []
  }
 ],
 "metadata": {
  "kernelspec": {
   "display_name": "Python 3",
   "language": "python",
   "name": "python3"
  },
  "language_info": {
   "codemirror_mode": {
    "name": "ipython",
    "version": 3
   },
   "file_extension": ".py",
   "mimetype": "text/x-python",
   "name": "python",
   "nbconvert_exporter": "python",
   "pygments_lexer": "ipython3",
   "version": "3.6.3"
  }
 },
 "nbformat": 4,
 "nbformat_minor": 2
}
