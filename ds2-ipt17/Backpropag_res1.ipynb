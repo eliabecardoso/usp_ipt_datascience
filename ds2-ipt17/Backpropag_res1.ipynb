{
 "cells": [
  {
   "cell_type": "markdown",
   "metadata": {},
   "source": [
    "# Backpropagation_res1...simulação da planilha backpropag"
   ]
  },
  {
   "cell_type": "code",
   "execution_count": 47,
   "metadata": {
    "collapsed": true
   },
   "outputs": [],
   "source": [
    "\"\"\"\n",
    "\n",
    "Linked Education\n",
    "\n",
    "Backpropagation XOR  saída linear (identidade)\n",
    "hidden layer: 2 perceptrons com\n",
    "ativação sigmoid\n",
    "\n",
    "Código complementa planilha ANN-backprop.xlsm\n",
    "\n",
    "Código adaptado de :\n",
    "https://brilliant.org/wiki/backpropagation/\n",
    "\n",
    "Atividade 1 : analisar código\n",
    "\n",
    "Atividade 2: comparar resultados com a planilha ANN-backprop.xlsm\n",
    "\n",
    "Atividade 3 : criar função custo (erro médio quadrático)\n",
    "e traçar gáfico : iterações x custo\n",
    "\n",
    "Atividade 4: inicializar com pesos randômicos (semente fixa)\n",
    "e verificar número de iterações até a convergência\n",
    "\n",
    "\n",
    "@author: Linked\n",
    "\"\"\"\n",
    "\n",
    "import numpy as np\n",
    "import matplotlib.pyplot as plt"
   ]
  },
  {
   "cell_type": "code",
   "execution_count": 51,
   "metadata": {
    "collapsed": true
   },
   "outputs": [],
   "source": [
    "\n",
    "\n",
    "#função custo\n",
    "\n",
    "def cost(ye,y):\n",
    "    dif=ye-y\n",
    "    return 0.5*np.inner(dif,dif)\n",
    "# sigmoid \n",
    "def sigmoid(x, derivative=False):\n",
    "\n",
    "    if (derivative == True):\n",
    "        return x * (1 - x)\n",
    "    else:\n",
    "        return 1 / (1 + np.exp(-x))\n",
    "\n",
    "# pesos randômicos fixos..não utlizados\n",
    "#np.random.seed(1)\n",
    "\n",
    "# learning rate\n",
    "alpha = .1 \n",
    "\n",
    "# nós na camada hidden\n",
    "num_hidden = 2\n",
    "\n",
    "# inputs\n",
    "X = np.array([  \n",
    "    [0, 0],\n",
    "    [0, 1],\n",
    "    [1, 0],\n",
    "    [1, 1]\n",
    "  \n",
    "])\n",
    "\n",
    "\n",
    "y = np.array([[0, 1, 1, 0]]).T\n",
    "\n",
    "# No código original, a inicialização dos pesos\n",
    "# é randômica. No curso, forçamos os pesos\n",
    "# iniciais da planilha..use o código comentado ou o fixo (igual à planilha)\n",
    "'''\n",
    "hidden_weights=np.array([[2*np.random.random()-1, 2*np.random.random()-1],\n",
    "[2*np.random.random()-1, 2*np.random.random()-1],\n",
    "[2*np.random.random()-1, 2*np.random.random()-1]\n",
    "\n",
    "])\n",
    "\n",
    "'''\n",
    "\n",
    "hidden_weights=np.array([[0.1,  0.4],\n",
    "[0.6,  0.2],\n",
    "[0.3, 0.8]\n",
    "\n",
    "])\n",
    "\n",
    "\n",
    "output_weights=np.array([[0.2],[0.9],[0.7]])\n",
    "\n",
    "# número de iterações : Gradient Descent\n",
    "num_iterations = 1 \n",
    "\n",
    "costs=[]\n",
    "\n",
    "\n",
    "\n"
   ]
  },
  {
   "cell_type": "code",
   "execution_count": 52,
   "metadata": {
    "collapsed": true
   },
   "outputs": [],
   "source": [
    "for i in range(num_iterations):\n",
    "\n",
    "    # fase forward: obtem os outputs de todas as camadas\n",
    "    # cria uma coluna de 1 (np.stack) no X (bias)\n",
    "    input_layer_outputs = np.hstack((np.ones((X.shape[0], 1)), X))\n",
    "    hidden_layer_outputs = np.hstack((np.ones((X.shape[0], 1)), sigmoid(np.dot(input_layer_outputs, hidden_weights))))\n",
    "    output_layer_outputs = np.dot(hidden_layer_outputs, output_weights)\n",
    "\n",
    "    costs.append(cost(output_layer_outputs.reshape((4,)),y.reshape((4,))))  \n",
    "    # backward phase\n",
    "    # Erro Output \n",
    "    output_error = output_layer_outputs - y\n",
    "    # \n",
    "    # Bias não entra no cálculo\n",
    "    hidden_error = hidden_layer_outputs[:, 1:] * (1 - hidden_layer_outputs[:, 1:]) * np.dot(output_error, output_weights.T[:, 1:])\n",
    "\n",
    "    # Gradiente acumulado       \n",
    "    hidden_pd = input_layer_outputs[:, :, np.newaxis] * hidden_error[: , np.newaxis, :]\n",
    "    output_pd = hidden_layer_outputs[:, :, np.newaxis] * output_error[:, np.newaxis, :]\n",
    "\n",
    "    # Gradiente médio (final)\n",
    "    total_hidden_gradient = np.average(hidden_pd, axis=0)\n",
    "    total_output_gradient = np.average(output_pd, axis=0)\n",
    "\n",
    "    # update weights\n",
    "    hidden_weights += - alpha * total_hidden_gradient\n",
    "    output_weights += - alpha * total_output_gradient\n",
    "    \n",
    "    \n",
    "    \n",
    "    \n"
   ]
  },
  {
   "cell_type": "code",
   "execution_count": 53,
   "metadata": {},
   "outputs": [
    {
     "name": "stdout",
     "output_type": "stream",
     "text": [
      "[[0.08483582 0.38959264]\n",
      " [0.5924568  0.19504386]\n",
      " [0.29222427 0.79519644]]\n",
      "[[0.12397103]\n",
      " [0.85135622]\n",
      " [0.64578824]]\n"
     ]
    }
   ],
   "source": [
    "print(hidden_weights)\n",
    "print(output_weights)"
   ]
  },
  {
   "cell_type": "code",
   "execution_count": null,
   "metadata": {
    "collapsed": true
   },
   "outputs": [],
   "source": []
  }
 ],
 "metadata": {
  "kernelspec": {
   "display_name": "Python 3",
   "language": "python",
   "name": "python3"
  },
  "language_info": {
   "codemirror_mode": {
    "name": "ipython",
    "version": 3
   },
   "file_extension": ".py",
   "mimetype": "text/x-python",
   "name": "python",
   "nbconvert_exporter": "python",
   "pygments_lexer": "ipython3",
   "version": "3.6.3"
  }
 },
 "nbformat": 4,
 "nbformat_minor": 2
}
