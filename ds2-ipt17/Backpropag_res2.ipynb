{
 "cells": [
  {
   "cell_type": "markdown",
   "metadata": {},
   "source": [
    "# Backpropag_res 2 xor"
   ]
  },
  {
   "cell_type": "code",
   "execution_count": 12,
   "metadata": {
    "collapsed": true
   },
   "outputs": [],
   "source": [
    "\"\"\"\n",
    "\n",
    "Linked Education\n",
    "\n",
    "Backpropagation XOR  saída linear (identidade)\n",
    "hidden layer: 2 perceptrons com\n",
    "ativação sigmoid\n",
    "\n",
    "Código complementa planilha ANN-backprop.xlsm\n",
    "\n",
    "Código adaptado de :\n",
    "https://brilliant.org/wiki/backpropagation/\n",
    "\n",
    "Atividade 1 : analisar código\n",
    "\n",
    "Atividade 2: comparar resultados com a planilha ANN-backprop.xlsm\n",
    "\n",
    "Atividade 3 : criar função custo (erro médio quadrático)\n",
    "e traçar gáfico : iterações x custo\n",
    "\n",
    "Atividade 4: inicializar com pesos randômicos (semente fixa)\n",
    "e verificar número de iterações até a convergência\n",
    "\n",
    "\n",
    "@author: Linked\n",
    "\"\"\"\n",
    "\n",
    "import numpy as np\n",
    "import matplotlib.pyplot as plt"
   ]
  },
  {
   "cell_type": "code",
   "execution_count": 13,
   "metadata": {
    "collapsed": true
   },
   "outputs": [],
   "source": [
    "\n",
    "\n",
    "#função custo\n",
    "\n",
    "def cost(ye,y):\n",
    "    dif=ye-y\n",
    "    return 0.5*np.inner(dif,dif)\n",
    "# sigmoid \n",
    "def sigmoid(x, derivative=False):\n",
    "\n",
    "    if (derivative == True):\n",
    "        return x * (1 - x)\n",
    "    else:\n",
    "        return 1 / (1 + np.exp(-x))\n",
    "\n",
    "\n",
    "np.random.seed(1)\n",
    "\n",
    "# learning rate\n",
    "alpha = .2 \n",
    "\n",
    "# nós na camada hidden\n",
    "num_hidden = 2\n",
    "\n",
    "# inputs\n",
    "X = np.array([  \n",
    "    [0, 0],\n",
    "    [0, 1],\n",
    "    [1, 0],\n",
    "    [1, 1]\n",
    "  \n",
    "])\n",
    "\n",
    "\n",
    "y = np.array([[0, 1, 1, 0]]).T\n",
    "\n",
    "# No código original, a inicialização dos pesos\n",
    "# é randômica. No curso, forçamos os pesos\n",
    "# iniciais da planilha..use o código comentado ou o fixo (igual à planilha)\n",
    "\n",
    "hidden_weights=np.array([[2*np.random.random()-1, 2*np.random.random()-1],\n",
    "[2*np.random.random()-1, 2*np.random.random()-1],\n",
    "[2*np.random.random()-1, 2*np.random.random()-1]\n",
    "\n",
    "])\n",
    "\n",
    "output_weights=np.array([[2*np.random.random()-1],[2*np.random.random()-1],[2*np.random.random()-1]])\n",
    "\n",
    "\n",
    "'''\n",
    "\n",
    "hidden_weights=np.array([[0.1,  0.4],\n",
    "[0.6,  0.2],\n",
    "[0.3, 0.8]\n",
    "\n",
    "])\n",
    "\n",
    "\n",
    "output_weights=np.array([[0.2],[0.9],[0.7]])\n",
    "'''\n",
    "\n",
    "# número de iterações : Gradient Descent\n",
    "num_iterations = 20000\n",
    "\n",
    "costs=[]\n",
    "\n",
    "\n",
    "\n"
   ]
  },
  {
   "cell_type": "code",
   "execution_count": 14,
   "metadata": {
    "collapsed": true
   },
   "outputs": [],
   "source": [
    "for i in range(num_iterations):\n",
    "\n",
    "    # fase forward: obtem os outputs de todas as camadas\n",
    "    # cria uma coluna de 1 (np.stack) no X (bias)\n",
    "    input_layer_outputs = np.hstack((np.ones((X.shape[0], 1)), X))\n",
    "    hidden_layer_outputs = np.hstack((np.ones((X.shape[0], 1)), sigmoid(np.dot(input_layer_outputs, hidden_weights))))\n",
    "    output_layer_outputs = np.dot(hidden_layer_outputs, output_weights)\n",
    "\n",
    "    costs.append(cost(output_layer_outputs.reshape((4,)),y.reshape((4,))))  \n",
    "    # backward phase\n",
    "    # Erro Output \n",
    "    output_error = output_layer_outputs - y\n",
    "    # \n",
    "    # Bias não entra no cálculo\n",
    "    hidden_error = hidden_layer_outputs[:, 1:] * (1 - hidden_layer_outputs[:, 1:]) * np.dot(output_error, output_weights.T[:, 1:])\n",
    "\n",
    "    # Gradiente acumulado       \n",
    "    hidden_pd = input_layer_outputs[:, :, np.newaxis] * hidden_error[: , np.newaxis, :]\n",
    "    output_pd = hidden_layer_outputs[:, :, np.newaxis] * output_error[:, np.newaxis, :]\n",
    "\n",
    "    # Gradiente médio (final)\n",
    "    total_hidden_gradient = np.average(hidden_pd, axis=0)\n",
    "    total_output_gradient = np.average(output_pd, axis=0)\n",
    "\n",
    "    # update weights\n",
    "    hidden_weights += - alpha * total_hidden_gradient\n",
    "    output_weights += - alpha * total_output_gradient\n",
    "    \n",
    "    \n",
    "    \n",
    "    \n"
   ]
  },
  {
   "cell_type": "code",
   "execution_count": 15,
   "metadata": {},
   "outputs": [
    {
     "data": {
      "image/png": "[encoded data removed]",
      "text/plain": [
       "<Figure size 432x288 with 1 Axes>"
      ]
     },
     "metadata": {},
     "output_type": "display_data"
    }
   ],
   "source": [
    "plt.plot(costs,'bo')\n",
    "plt.show()"
   ]
  },
  {
   "cell_type": "code",
   "execution_count": 16,
   "metadata": {},
   "outputs": [
    {
     "data": {
      "text/plain": [
       "array([[4.88498131e-15],\n",
       "       [1.00000000e+00],\n",
       "       [1.00000000e+00],\n",
       "       [1.52100554e-14]])"
      ]
     },
     "execution_count": 16,
     "metadata": {},
     "output_type": "execute_result"
    }
   ],
   "source": [
    "output_layer_outputs"
   ]
  },
  {
   "cell_type": "code",
   "execution_count": null,
   "metadata": {
    "collapsed": true
   },
   "outputs": [],
   "source": []
  }
 ],
 "metadata": {
  "kernelspec": {
   "display_name": "Python 3",
   "language": "python",
   "name": "python3"
  },
  "language_info": {
   "codemirror_mode": {
    "name": "ipython",
    "version": 3
   },
   "file_extension": ".py",
   "mimetype": "text/x-python",
   "name": "python",
   "nbconvert_exporter": "python",
   "pygments_lexer": "ipython3",
   "version": "3.6.3"
  }
 },
 "nbformat": 4,
 "nbformat_minor": 2
}
