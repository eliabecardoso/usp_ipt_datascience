{
 "cells": [
  {
   "cell_type": "markdown",
   "metadata": {},
   "source": [
    "# Índice de qualidade de cluster Silhouette_res"
   ]
  },
  {
   "cell_type": "code",
   "execution_count": 1,
   "metadata": {},
   "outputs": [],
   "source": [
    "from sklearn.cluster import KMeans\n",
    "from sklearn.metrics import silhouette_samples, silhouette_score\n",
    "import numpy as np"
   ]
  },
  {
   "cell_type": "code",
   "execution_count": 2,
   "metadata": {},
   "outputs": [],
   "source": [
    "X = np.array([[1, 1], [2, 2], [5, 5],\n",
    "              [5, 6], [1,5], [2, 6]])"
   ]
  },
  {
   "cell_type": "code",
   "execution_count": 3,
   "metadata": {},
   "outputs": [],
   "source": [
    "def dist(v1,v2):\n",
    "    return np.linalg.norm(v2-v1)"
   ]
  },
  {
   "cell_type": "code",
   "execution_count": 12,
   "metadata": {},
   "outputs": [
    {
     "name": "stdout",
     "output_type": "stream",
     "text": [
      "Cluster de cada Ponto... [1 1 0 0 0 0]\n",
      "Centróides dos Clusters [[3.25 5.5 ]\n",
      " [1.5  1.5 ]]\n",
      "Média Silhouette Geral : 0.48673192668404397\n",
      "Numero de elementos do cluster  0 = 4\n",
      "Silhouette médio do cluster  0 = 0.38314202532297703\n",
      "Numero de elementos do cluster  1 = 2\n",
      "Silhouette médio do cluster  1 = 0.6939117294061781\n",
      "Silhouette do ponto  0 = 0.7326501827093188\n",
      "Silhouette do ponto  1 = 0.6551732761030373\n",
      "Silhouette do ponto  2 = 0.45032363014928306\n",
      "Silhouette do ponto  3 = 0.5250947338945307\n",
      "Silhouette do ponto  4 = 0.1122638504572634\n",
      "Silhouette do ponto  5 = 0.44488588679083096\n"
     ]
    }
   ],
   "source": [
    "k=2\n",
    "kmeans = KMeans(n_clusters=k, random_state=0).fit(X)\n",
    "print('Cluster de cada Ponto...',kmeans.labels_)\n",
    "\n",
    "print('Centróides dos Clusters', kmeans.cluster_centers_)\n",
    "\n",
    "silhouette_avg = silhouette_score(X, kmeans.labels_)\n",
    "print('Média Silhouette Geral :',silhouette_avg)\n",
    "sample_silhouette_values = np.array(silhouette_samples(X,kmeans.labels_))\n",
    "\n",
    "for i in range(k):\n",
    "    l=[v for v in sample_silhouette_values]\n",
    "    l_index=[j for j in range(len(l)) if kmeans.labels_[j]==i]\n",
    "    s=[l[j] for j in l_index]\n",
    "    print('Numero de elementos do cluster ',i,'=',len(s))\n",
    "    print('Silhouette médio do cluster ',i,'=',np.array(s).mean())\n",
    "    \n",
    "for i in range(len(X)):\n",
    "    print('Silhouette do ponto ',i,'=',sample_silhouette_values[i])"
   ]
  },
  {
   "cell_type": "code",
   "execution_count": 10,
   "metadata": {},
   "outputs": [
    {
     "data": {
      "text/plain": [
       "1.4142135623730951"
      ]
     },
     "execution_count": 10,
     "metadata": {},
     "output_type": "execute_result"
    }
   ],
   "source": [
    "dist(X[0],X[1])"
   ]
  }
 ],
 "metadata": {
  "kernelspec": {
   "display_name": "Python 3",
   "language": "python",
   "name": "python3"
  },
  "language_info": {
   "codemirror_mode": {
    "name": "ipython",
    "version": 3
   },
   "file_extension": ".py",
   "mimetype": "text/x-python",
   "name": "python",
   "nbconvert_exporter": "python",
   "pygments_lexer": "ipython3",
   "version": "3.6.5"
  }
 },
 "nbformat": 4,
 "nbformat_minor": 2
}
