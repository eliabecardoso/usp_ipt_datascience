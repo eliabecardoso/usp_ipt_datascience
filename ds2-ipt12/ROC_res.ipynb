{
 "cells": [
  {
   "cell_type": "markdown",
   "metadata": {},
   "source": [
    "# ROC Curve logistic regression x KNN_res"
   ]
  },
  {
   "cell_type": "code",
   "execution_count": 1,
   "metadata": {},
   "outputs": [],
   "source": [
    "import numpy as np\n",
    "from sklearn import metrics\n",
    "from sklearn import linear_model\n",
    "from sklearn.neighbors import KNeighborsClassifier\n",
    "\n",
    "\n",
    "import matplotlib.pyplot as plt\n",
    "import math\n",
    "\n",
    "\n"
   ]
  },
  {
   "cell_type": "code",
   "execution_count": 2,
   "metadata": {},
   "outputs": [],
   "source": [
    "arq = open('c:\\\\dados\\\\mimimi_raro.csv', 'r')\n",
    "texto = arq.readlines()\n",
    "arq.close()\n",
    "\n",
    "\n",
    "lx1=[]\n",
    "lx2=[]\n",
    "\n",
    "X=[]\n",
    "ly=[]\n",
    "\n",
    "for l in texto:\n",
    "   l1=l.split(\";\")\n",
    "   lx1.append(float(l1[0]))\n",
    "   lx2.append(float(l1[1]))\n",
    "   ly.append(float(l1[2]))\n",
    "   \n",
    "\n",
    "   \n",
    "\n",
    "X = list(zip(lx1,lx2))\n",
    "\n",
    "\n",
    "X=np.array(X)\n",
    "\n",
    "Y = ly\n",
    "Y=np.array(Y)\n",
    "\n"
   ]
  },
  {
   "cell_type": "code",
   "execution_count": 4,
   "metadata": {},
   "outputs": [
    {
     "data": {
      "image/png": "[encoded data removed]",
      "text/plain": [
       "<Figure size 432x288 with 1 Axes>"
      ]
     },
     "metadata": {},
     "output_type": "display_data"
    },
    {
     "name": "stdout",
     "output_type": "stream",
     "text": [
      "[[0.02345765 0.0146597 ]]\n",
      "[-3.09625523]\n"
     ]
    }
   ],
   "source": [
    "#Gráfico com as amostras para treinamento\n",
    "\n",
    "for i in range(len(X)):\n",
    "    if(Y[i]==1.0):plt.plot(lx1[i],lx2[i],'r+')\n",
    "    else:plt.plot(lx1[i],lx2[i],'bo')\n",
    "plt.title('Amostras para treinamento')    \n",
    "plt.show()\n",
    "\n",
    "#É criado o objeto de classificação\n",
    "#com Logistic Regression\n",
    "\n",
    "logreg = linear_model.LogisticRegression()\n",
    "\n",
    "#aprendizado\n",
    "model=logreg.fit(X, Y)\n",
    "\n",
    "\n",
    "#predição\n",
    "Z=logreg.predict(X)\n",
    "\n",
    "print(logreg.coef_)\n",
    "print(logreg.intercept_)\n",
    "\n",
    "scr=[]\n",
    "for i in range(len(Y)):\n",
    "    scr.append(1.0/(1+math.exp(-(-3.096+0.0234*lx1[i]+0.0146597*lx2[i]))))\n",
    "\n",
    "fprx, tprx, thresholdsx = metrics.roc_curve(Y, scr, pos_label=1)\n",
    "        \n"
   ]
  },
  {
   "cell_type": "code",
   "execution_count": 5,
   "metadata": {},
   "outputs": [],
   "source": [
    "# Classificando com KNN\n",
    "\n",
    "\n",
    "neigh = KNeighborsClassifier(n_neighbors=3)\n",
    "neigh.fit(X,Y) \n",
    "score_knn=neigh.predict_proba(X)\n",
    "\n",
    "\n",
    "score_1=[]\n",
    "for i in range(len(Y)):\n",
    "    score_1.append(score_knn[i][1])\n",
    "fpr_knn, tpr_knn, thresholds_knn = metrics.roc_curve(Y, score_1, pos_label=1)\n",
    "\n",
    "\n"
   ]
  },
  {
   "cell_type": "code",
   "execution_count": 6,
   "metadata": {},
   "outputs": [
    {
     "data": {
      "image/png": "[encoded data removed]",
      "text/plain": [
       "<Figure size 432x288 with 1 Axes>"
      ]
     },
     "metadata": {},
     "output_type": "display_data"
    }
   ],
   "source": [
    "plt.plot(fprx,tprx,color='blue')\n",
    "plt.plot(fpr_knn,tpr_knn,color='black')\n",
    "plt.show()\n",
    "\n"
   ]
  },
  {
   "cell_type": "code",
   "execution_count": 8,
   "metadata": {},
   "outputs": [
    {
     "name": "stdout",
     "output_type": "stream",
     "text": [
      "AUC logistic= 0.9452247191011236\n",
      "AUC KNN= 0.9719101123595506\n"
     ]
    }
   ],
   "source": [
    "print('AUC logistic=',metrics.auc(fprx,tprx))\n",
    "print('AUC KNN=',metrics.auc(fpr_knn,tpr_knn))"
   ]
  }
 ],
 "metadata": {
  "kernelspec": {
   "display_name": "Python 3",
   "language": "python",
   "name": "python3"
  },
  "language_info": {
   "codemirror_mode": {
    "name": "ipython",
    "version": 3
   },
   "file_extension": ".py",
   "mimetype": "text/x-python",
   "name": "python",
   "nbconvert_exporter": "python",
   "pygments_lexer": "ipython3",
   "version": "3.6.5"
  }
 },
 "nbformat": 4,
 "nbformat_minor": 2
}
