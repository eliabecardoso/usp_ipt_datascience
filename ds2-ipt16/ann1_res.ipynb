{
 "cells": [
  {
   "cell_type": "markdown",
   "metadata": {},
   "source": [
    "# ANN 1_res\n"
   ]
  },
  {
   "cell_type": "code",
   "execution_count": 110,
   "metadata": {},
   "outputs": [],
   "source": [
    "import numpy as np\n",
    "from sklearn.neural_network import MLPClassifier\n",
    "import math\n"
   ]
  },
  {
   "cell_type": "markdown",
   "metadata": {},
   "source": [
    "Definindo o Dataset para as funções lógicas"
   ]
  },
  {
   "cell_type": "code",
   "execution_count": 33,
   "metadata": {},
   "outputs": [],
   "source": [
    "X=np.array([[1,1],[1,0],[0,1],[0,0]])\n",
    "y_and=np.array([1,0,0,0])\n",
    "y_or=np.array([1,1,1,0])\n",
    "y_xor=np.array([0,1,1,0])\n"
   ]
  },
  {
   "cell_type": "code",
   "execution_count": 46,
   "metadata": {},
   "outputs": [],
   "source": [
    "ann=MLPClassifier(hidden_layer_sizes=(1,),max_iter=5000,random_state=42,activation='relu')"
   ]
  },
  {
   "cell_type": "code",
   "execution_count": 51,
   "metadata": {},
   "outputs": [
    {
     "data": {
      "text/plain": [
       "array([1, 0, 0, 0])"
      ]
     },
     "execution_count": 51,
     "metadata": {},
     "output_type": "execute_result"
    }
   ],
   "source": [
    "ann.fit(X,y_and)\n",
    "ann.predict(X)"
   ]
  },
  {
   "cell_type": "code",
   "execution_count": 53,
   "metadata": {},
   "outputs": [
    {
     "data": {
      "text/plain": [
       "array([1, 1, 1, 0])"
      ]
     },
     "execution_count": 53,
     "metadata": {},
     "output_type": "execute_result"
    }
   ],
   "source": [
    "ann.fit(X,y_or)\n",
    "ann.predict(X)"
   ]
  },
  {
   "cell_type": "code",
   "execution_count": 60,
   "metadata": {},
   "outputs": [
    {
     "data": {
      "text/plain": [
       "array([0, 0, 1, 0])"
      ]
     },
     "execution_count": 60,
     "metadata": {},
     "output_type": "execute_result"
    }
   ],
   "source": [
    "X1=np.array([[1,1],[1,1],[1,1],[1,0],[1,0],[0,1],[0,1],[0,0]])\n",
    "y_xor=np.array([0,0,0,1,1,1,1,0])\n",
    "ann.fit(X1,y_xor)\n",
    "ann.predict(X)#não conseguimos mais que 75% de acerto com 1 perceptron apenas"
   ]
  },
  {
   "cell_type": "markdown",
   "metadata": {},
   "source": [
    "XOR com 3 neurônios (é possível com 2)"
   ]
  },
  {
   "cell_type": "code",
   "execution_count": 102,
   "metadata": {},
   "outputs": [],
   "source": [
    "ann2=MLPClassifier(hidden_layer_sizes=(3,),max_iter=5000,random_state=42,activation='relu')"
   ]
  },
  {
   "cell_type": "code",
   "execution_count": 104,
   "metadata": {},
   "outputs": [
    {
     "data": {
      "text/plain": [
       "array([0, 1, 1, 0])"
      ]
     },
     "execution_count": 104,
     "metadata": {},
     "output_type": "execute_result"
    }
   ],
   "source": [
    "X1=np.array([[1,1],[1,0],[0,1],[0,0]])\n",
    "y_xor=np.array([0,1,1,0])\n",
    "ann2.fit(X1,y_xor)\n",
    "ann2.predict(X)"
   ]
  },
  {
   "cell_type": "markdown",
   "metadata": {},
   "source": [
    "Montar uma rede com o treinamento obtido pela ann2"
   ]
  },
  {
   "cell_type": "code",
   "execution_count": 107,
   "metadata": {},
   "outputs": [
    {
     "data": {
      "text/plain": [
       "([array([[-2.48497143e-26,  1.58620418e+00,  2.21059775e+00],\n",
       "         [ 3.66592419e-37, -1.52201218e+00, -2.21067641e+00]]),\n",
       "  array([[ 2.61960890e-08],\n",
       "         [-2.41813638e+00],\n",
       "         [ 3.50800618e+00]])],\n",
       " [array([-9.68190297e-01,  1.52220990e+00, -1.22461288e-04]),\n",
       "  array([1.8177965])])"
      ]
     },
     "execution_count": 107,
     "metadata": {},
     "output_type": "execute_result"
    }
   ],
   "source": [
    "ann2.coefs_,ann2.intercepts_"
   ]
  },
  {
   "cell_type": "code",
   "execution_count": 109,
   "metadata": {},
   "outputs": [],
   "source": [
    "def percep(w,i,activ):\n",
    "    return activ(np.inner(w,i))"
   ]
  },
  {
   "cell_type": "code",
   "execution_count": 111,
   "metadata": {},
   "outputs": [],
   "source": [
    "def sig(x):\n",
    "    return 1.0/(1.0+math.exp(-x))"
   ]
  },
  {
   "cell_type": "code",
   "execution_count": 112,
   "metadata": {},
   "outputs": [],
   "source": [
    "def relu(x):\n",
    "    if x<0:return 0.0\n",
    "    else:return x"
   ]
  },
  {
   "cell_type": "code",
   "execution_count": 131,
   "metadata": {},
   "outputs": [],
   "source": [
    "i1=np.array([1,1,1])\n",
    "w1=np.array([-9.68190297e-01,-2.48497143e-26,3.66592419e-37])\n",
    "w2=np.array([1.52220990e+00,1.58620418e+00,-1.52201218e+00])\n",
    "w3=np.array([-1.22461288e-04,2.21059775e+00,-2.21067641e+00])\n",
    "w4=np.array([1.8177965,2.61960890e-08,-2.41813638e+00,3.50800618e+00])"
   ]
  },
  {
   "cell_type": "code",
   "execution_count": 132,
   "metadata": {},
   "outputs": [
    {
     "name": "stdout",
     "output_type": "stream",
     "text": [
      "0\n"
     ]
    }
   ],
   "source": [
    "o1=percep(w1,i1,relu)\n",
    "o2=percep(w2,i1,relu)\n",
    "o3=percep(w3,i1,relu)\n",
    "out=percep(w4,np.array([1,o1,o2,o3]),sig)\n",
    "threshold=0.5\n",
    "if out>threshold:print(1)\n",
    "else:print(0)"
   ]
  },
  {
   "cell_type": "code",
   "execution_count": null,
   "metadata": {},
   "outputs": [],
   "source": []
  }
 ],
 "metadata": {
  "kernelspec": {
   "display_name": "Python 3",
   "language": "python",
   "name": "python3"
  },
  "language_info": {
   "codemirror_mode": {
    "name": "ipython",
    "version": 3
   },
   "file_extension": ".py",
   "mimetype": "text/x-python",
   "name": "python",
   "nbconvert_exporter": "python",
   "pygments_lexer": "ipython3",
   "version": "3.6.5"
  }
 },
 "nbformat": 4,
 "nbformat_minor": 2
}
