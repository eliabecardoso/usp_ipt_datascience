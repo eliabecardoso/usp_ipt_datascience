{
 "cells": [
  {
   "cell_type": "markdown",
   "metadata": {},
   "source": [
    "# Estatística Descritiva\n",
    "\n"
   ]
  },
  {
   "cell_type": "code",
   "execution_count": 1,
   "metadata": {},
   "outputs": [],
   "source": [
    "import statistics\n",
    "import numpy as np\n",
    "import math"
   ]
  },
  {
   "cell_type": "markdown",
   "metadata": {},
   "source": [
    "<b>Medidas de tendência central </b>"
   ]
  },
  {
   "cell_type": "code",
   "execution_count": 1,
   "metadata": {},
   "outputs": [],
   "source": [
    "dados=[1,2,5,3,4,7,8,9,2,3,4,2]\n"
   ]
  },
  {
   "cell_type": "markdown",
   "metadata": {},
   "source": [
    "Obtenha a média \"na mão\" e com statistics.mean()"
   ]
  },
  {
   "cell_type": "code",
   "execution_count": null,
   "metadata": {},
   "outputs": [],
   "source": []
  },
  {
   "cell_type": "markdown",
   "metadata": {},
   "source": [
    "A mediana é o valor da variável que ocupa a\n",
    "posição central de um conjunto de n dados\n",
    "ordenados. Obtenha a mediana de \"dados\" \"na mão\"\n",
    "e com statistics.median()\n"
   ]
  },
  {
   "cell_type": "code",
   "execution_count": 8,
   "metadata": {
    "collapsed": true
   },
   "outputs": [
    {
     "name": "stdout",
     "output_type": "stream",
     "text": [
      "[1, 2, 2, 2, 3, 3, 4, 4, 5, 7, 8, 9]\n",
      "Posição da mediana é  5.5\n",
      "Valor da mediana é a média entre posição 5 e 6 (3 e 4)\n"
     ]
    },
    {
     "data": {
      "text/plain": [
       "3.5"
      ]
     },
     "execution_count": 8,
     "metadata": {},
     "output_type": "execute_result"
    }
   ],
   "source": [
    "\n"
   ]
  },
  {
   "cell_type": "markdown",
   "metadata": {},
   "source": [
    "A moda e o valor que mais se repete. Obtenha a moda com statics.mode()"
   ]
  },
  {
   "cell_type": "code",
   "execution_count": 9,
   "metadata": {
    "collapsed": true
   },
   "outputs": [
    {
     "data": {
      "text/plain": [
       "2"
      ]
     },
     "execution_count": 9,
     "metadata": {},
     "output_type": "execute_result"
    }
   ],
   "source": []
  },
  {
   "cell_type": "markdown",
   "metadata": {},
   "source": [
    "<b>Medidas de dispersão </b>"
   ]
  },
  {
   "cell_type": "markdown",
   "metadata": {},
   "source": [
    "<img src='data:image/png;base64,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'>"
   ]
  },
  {
   "cell_type": "markdown",
   "metadata": {},
   "source": [
    "Obtenha na mão e com statistics. a variância da amostra e da população"
   ]
  },
  {
   "cell_type": "code",
   "execution_count": 11,
   "metadata": {},
   "outputs": [],
   "source": []
  },
  {
   "cell_type": "code",
   "execution_count": 15,
   "metadata": {
    "collapsed": true
   },
   "outputs": [
    {
     "data": {
      "text/plain": [
       "6.696969696969696"
      ]
     },
     "execution_count": 15,
     "metadata": {},
     "output_type": "execute_result"
    }
   ],
   "source": [
    "Obtenha o desvio padrão com statistcs (amostra e população)"
   ]
  },
  {
   "cell_type": "code",
   "execution_count": 16,
   "metadata": {
    "collapsed": true
   },
   "outputs": [
    {
     "data": {
      "text/plain": [
       "(2.587850400809463, 2.5878504008094625)"
      ]
     },
     "execution_count": 16,
     "metadata": {},
     "output_type": "execute_result"
    }
   ],
   "source": []
  }
 ],
 "metadata": {
  "kernelspec": {
   "display_name": "Python 3",
   "language": "python",
   "name": "python3"
  },
  "language_info": {
   "codemirror_mode": {
    "name": "ipython",
    "version": 3
   },
   "file_extension": ".py",
   "mimetype": "text/x-python",
   "name": "python",
   "nbconvert_exporter": "python",
   "pygments_lexer": "ipython3",
   "version": "3.6.5"
  }
 },
 "nbformat": 4,
 "nbformat_minor": 2
}
