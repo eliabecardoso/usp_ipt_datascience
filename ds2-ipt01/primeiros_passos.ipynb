{
 "cells": [
  {
   "cell_type": "markdown",
   "metadata": {},
   "source": [
    "# Primeiros Passos em Python"
   ]
  },
  {
   "cell_type": "markdown",
   "metadata": {},
   "source": [
    "Atenção : cada exercício deve ser resolvido na(s) célula(s) abaixo do seu enunciado"
   ]
  },
  {
   "cell_type": "markdown",
   "metadata": {},
   "source": [
    "Exercício 1: Crie uma lista \"ls\" com os inteiros 1,2,3 e 4 e a fruta \"abacate\". Depois, insira os carros \"fusca\" e \"corcel\"."
   ]
  },
  {
   "cell_type": "code",
   "execution_count": null,
   "metadata": {},
   "outputs": [],
   "source": []
  },
  {
   "cell_type": "markdown",
   "metadata": {},
   "source": [
    "Exercício 2: apresente o número de elementos da lista \"ls\", além de seu primeiro e último elementos."
   ]
  },
  {
   "cell_type": "code",
   "execution_count": null,
   "metadata": {},
   "outputs": [],
   "source": []
  },
  {
   "cell_type": "markdown",
   "metadata": {},
   "source": [
    "Exercício 3: Usando \"slices\", crie a lista \"ls2\", pegando do segundo ao quinto elemento de ls. ...Depois altere na ls abacate para abacateiro (é possível? por que?) e verifique se isso altera ls2"
   ]
  },
  {
   "cell_type": "code",
   "execution_count": null,
   "metadata": {},
   "outputs": [],
   "source": []
  },
  {
   "cell_type": "markdown",
   "metadata": {},
   "source": [
    "Exercício 4:Faça ls3=ls ..Foi feita uma cópia? Altere em ls 1 para 5 e verifique o efeito em ls3. Explique"
   ]
  },
  {
   "cell_type": "code",
   "execution_count": null,
   "metadata": {},
   "outputs": [],
   "source": []
  },
  {
   "cell_type": "markdown",
   "metadata": {},
   "source": [
    "ls3 e ls nomeiam o mesmo objeto. Podemos verificar isso pelo id(ls3) e id(ls)"
   ]
  },
  {
   "cell_type": "markdown",
   "metadata": {},
   "source": [
    "Exercicio 5: usando .copy(), crie lsc como cópia de ls, altere o primeiro elemento e note que lsc não se alterou!"
   ]
  },
  {
   "cell_type": "markdown",
   "metadata": {},
   "source": [
    "Exercício 6: crie a tupla tl=(1,2). Tente alterar o primeiro elemento. Verifique o resultado. Tupla é imutável!"
   ]
  },
  {
   "cell_type": "code",
   "execution_count": null,
   "metadata": {},
   "outputs": [],
   "source": []
  },
  {
   "cell_type": "markdown",
   "metadata": {},
   "source": [
    "Exercício 7: Crie um dicionário \"dct\" de telefones(ints) joão: 1234, maria :5678, carlos: 7899. Depois insira marcelo:7777. Tente mostrar o número de uma chave inexistente 'ana' e de uma existente (carlos)."
   ]
  },
  {
   "cell_type": "code",
   "execution_count": null,
   "metadata": {},
   "outputs": [],
   "source": [
    "\n"
   ]
  },
  {
   "cell_type": "code",
   "execution_count": null,
   "metadata": {},
   "outputs": [],
   "source": []
  },
  {
   "cell_type": "markdown",
   "metadata": {},
   "source": [
    "Exercício 8: Crie um conjunto de inteiros s1={1,2,3} e s2={3,4,5}. Obtenha a intersecção."
   ]
  },
  {
   "cell_type": "code",
   "execution_count": null,
   "metadata": {},
   "outputs": [],
   "source": []
  },
  {
   "cell_type": "markdown",
   "metadata": {},
   "source": [
    "Exercício 9:crie uma lista de inteiros li=[1,2,4,6,7,12,0,22], crie uma lista vazia lp=[], percorra a lista li e insira em lp, os elementos pares de li. Eis nosso primeiro laço e primeiro if. Observe indentação para definir o início e final do laço (observe o :)"
   ]
  },
  {
   "cell_type": "code",
   "execution_count": null,
   "metadata": {},
   "outputs": [],
   "source": [
    "\n"
   ]
  },
  {
   "cell_type": "markdown",
   "metadata": {},
   "source": [
    "Exercício 10:Ordene a lista l=[1,9,2,3,12,0] em ordem crescente. Depois ordene a lista l1=[(1,3),(7,2),(4,2)] pelo primeiro elemento"
   ]
  },
  {
   "cell_type": "code",
   "execution_count": null,
   "metadata": {},
   "outputs": [],
   "source": []
  },
  {
   "cell_type": "markdown",
   "metadata": {},
   "source": [
    "Exercício 11:Crie uma lista de tuplas lt=[(0,4),(0,5),(1,6),(0,4),(2,6),(1,8)] o primeiro elemento da tupla é o id do usuário, o segundo é o produto adquirido.Apresente um dicionário com a lista dos produtos comprados por usuário."
   ]
  },
  {
   "cell_type": "code",
   "execution_count": null,
   "metadata": {},
   "outputs": [],
   "source": [
    "\n"
   ]
  },
  {
   "cell_type": "markdown",
   "metadata": {},
   "source": [
    "Exercício 12: Partindo do dicionário dct do exerício 11, crie uma matriz produtos (0 a 9) nas colunas e usuários (0 a 2). A matriz será uma lista de listas. Cada lista será uma linha da matriz \"A\"."
   ]
  },
  {
   "cell_type": "code",
   "execution_count": null,
   "metadata": {},
   "outputs": [],
   "source": [
    "     "
   ]
  },
  {
   "cell_type": "markdown",
   "metadata": {},
   "source": [
    "Exercício 13: obtenha, a partir de dct[i], quantos produtos diferentes o usuário  \"i\" comprou"
   ]
  },
  {
   "cell_type": "code",
   "execution_count": null,
   "metadata": {},
   "outputs": [],
   "source": []
  },
  {
   "cell_type": "markdown",
   "metadata": {},
   "source": [
    "Exercício 14: crie uma função que devolve (com base em dct) os produtos comprados em comum por i e j"
   ]
  },
  {
   "cell_type": "code",
   "execution_count": null,
   "metadata": {},
   "outputs": [],
   "source": []
  },
  {
   "cell_type": "markdown",
   "metadata": {},
   "source": [
    "Exercício 15: Obtenha a matriz C pela multiplicação de A por B A=[[1,2],[3,4]] , B=[[3,1],[0,5]]"
   ]
  },
  {
   "cell_type": "code",
   "execution_count": null,
   "metadata": {},
   "outputs": [],
   "source": []
  },
  {
   "cell_type": "markdown",
   "metadata": {},
   "source": [
    "Exercicio 16: crie uma função norma(x) que recebe uma lista de inteiros e devolve a norma euclidiana desse \"vetor\". Teste-a com o vetor v=[1,0,3]"
   ]
  },
  {
   "cell_type": "code",
   "execution_count": null,
   "metadata": {},
   "outputs": [],
   "source": []
  },
  {
   "cell_type": "markdown",
   "metadata": {},
   "source": [
    "Exercício 17:crie uma função intern(x) que recebe duas listas de inteiros (mesma dimensão) e devolve o produto interno desses \"vetores\""
   ]
  },
  {
   "cell_type": "code",
   "execution_count": null,
   "metadata": {},
   "outputs": [],
   "source": []
  },
  {
   "cell_type": "markdown",
   "metadata": {},
   "source": [
    "Exercício 18: o cos entre dois vetores é dado por v1.v2/||v1||||v2|| . Crie a função cosvect que recebe duas listas e devolve o cos entre elas.Utilize as funçõae intern e norma já criadas"
   ]
  },
  {
   "cell_type": "code",
   "execution_count": null,
   "metadata": {},
   "outputs": [],
   "source": []
  },
  {
   "cell_type": "markdown",
   "metadata": {},
   "source": [
    "Exercício 19: use a função cosvect como indicador de similaridade entre vetores. Obtenha a similaridade entre os usuários 1 e 2 do exercício 12, em função da similaridade entre as linhas 1 e 2 da matriz AA."
   ]
  },
  {
   "cell_type": "code",
   "execution_count": null,
   "metadata": {},
   "outputs": [],
   "source": []
  },
  {
   "cell_type": "markdown",
   "metadata": {},
   "source": [
    "Exercício 20:Crie a função emq(ye,y) \"erro médio quadrático\" que dá a soma dos quadrados das diferenças entre os valores estimados \"vetor ye\" e os valores reais \"y\". A soma deverá ser dividida pelo número de elementos de ye."
   ]
  },
  {
   "cell_type": "code",
   "execution_count": null,
   "metadata": {},
   "outputs": [],
   "source": []
  },
  {
   "cell_type": "markdown",
   "metadata": {},
   "source": [
    "Exercício 21: Faça o gráfico (com bolas) da função y=x**2 para x=1,2,3,4 e 5. Use a biblioteca pyplot de matplotlib."
   ]
  },
  {
   "cell_type": "code",
   "execution_count": null,
   "metadata": {},
   "outputs": [],
   "source": []
  },
  {
   "cell_type": "markdown",
   "metadata": {},
   "source": [
    "Exercício 22: Faça o gráfico (com bolas) da função sigmoid sig(x)=1/(1+e**-x) para x de -10 a +10 de 0.1 em 0.1. Crie a função sigmoid."
   ]
  },
  {
   "cell_type": "code",
   "execution_count": null,
   "metadata": {},
   "outputs": [],
   "source": []
  }
 ],
 "metadata": {
  "kernelspec": {
   "display_name": "Python 3",
   "language": "python",
   "name": "python3"
  },
  "language_info": {
   "codemirror_mode": {
    "name": "ipython",
    "version": 3
   },
   "file_extension": ".py",
   "mimetype": "text/x-python",
   "name": "python",
   "nbconvert_exporter": "python",
   "pygments_lexer": "ipython3",
   "version": "3.6.3"
  }
 },
 "nbformat": 4,
 "nbformat_minor": 2
}
