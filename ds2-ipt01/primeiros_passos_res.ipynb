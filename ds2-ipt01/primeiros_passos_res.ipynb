{
 "cells": [
  {
   "cell_type": "markdown",
   "metadata": {},
   "source": [
    "# Primeiros Passos em Python"
   ]
  },
  {
   "cell_type": "markdown",
   "metadata": {},
   "source": [
    "Atenção : cada exercício deve ser resolvido na(s) célula(s) abaixo do seu enunciado"
   ]
  },
  {
   "cell_type": "markdown",
   "metadata": {},
   "source": [
    "Exercício 1: Crie uma lista \"ls\" com os inteiros 1,2,3 e 4 e a fruta \"abacate\". Depois, insira os carros \"fusca\" e \"corcel\"."
   ]
  },
  {
   "cell_type": "code",
   "execution_count": 6,
   "metadata": {},
   "outputs": [
    {
     "data": {
      "text/plain": [
       "[1, 2, 3, 4, 'abacate', 'fusca', 'corcel']"
      ]
     },
     "execution_count": 6,
     "metadata": {},
     "output_type": "execute_result"
    }
   ],
   "source": [
    "ls=[1,2,3,4,'abacate']\n",
    "ls.append('fusca')\n",
    "ls.append('corcel')\n",
    "ls"
   ]
  },
  {
   "cell_type": "markdown",
   "metadata": {},
   "source": [
    "Exercício 2: apresente o número de elementos da lista \"ls\", além de seu primeiro e último elementos."
   ]
  },
  {
   "cell_type": "code",
   "execution_count": 7,
   "metadata": {},
   "outputs": [
    {
     "data": {
      "text/plain": [
       "(7, 1, 'corcel')"
      ]
     },
     "execution_count": 7,
     "metadata": {},
     "output_type": "execute_result"
    }
   ],
   "source": [
    "len(ls),ls[0],ls[-1]"
   ]
  },
  {
   "cell_type": "markdown",
   "metadata": {},
   "source": [
    "Exercício 3: Usando \"slices\", crie a lista \"ls2\", pegando do segundo ao quinto elemento de ls. ...Depois altere na ls abacate para abacateiro (é possível? por que?) e verifique se isso altera ls2"
   ]
  },
  {
   "cell_type": "code",
   "execution_count": 8,
   "metadata": {},
   "outputs": [
    {
     "data": {
      "text/plain": [
       "([2, 3, 4, 'abacate'], [1, 2, 3, 4, 'abacateiro', 'fusca', 'corcel'])"
      ]
     },
     "execution_count": 8,
     "metadata": {},
     "output_type": "execute_result"
    }
   ],
   "source": [
    "ls2=ls[1:5]\n",
    "ls[4]='abacateiro'\n",
    "ls2,ls"
   ]
  },
  {
   "cell_type": "markdown",
   "metadata": {},
   "source": [
    "Exercício 4:Faça ls3=ls ..Foi feita uma cópia? Altere em ls 1 para 5 e verifique o efeito em ls3. Explique"
   ]
  },
  {
   "cell_type": "code",
   "execution_count": 9,
   "metadata": {},
   "outputs": [
    {
     "data": {
      "text/plain": [
       "([5, 2, 3, 4, 'abacateiro', 'fusca', 'corcel'],\n",
       " [5, 2, 3, 4, 'abacateiro', 'fusca', 'corcel'])"
      ]
     },
     "execution_count": 9,
     "metadata": {},
     "output_type": "execute_result"
    }
   ],
   "source": [
    "ls3=ls\n",
    "ls[0]=5\n",
    "ls3,ls"
   ]
  },
  {
   "cell_type": "markdown",
   "metadata": {},
   "source": [
    "ls3 e ls nomeiam o mesmo objeto. Podemos verificar isso pelo id(ls3) e id(ls)"
   ]
  },
  {
   "cell_type": "markdown",
   "metadata": {},
   "source": [
    "Exercicio 5: usando .copy(), crie lsc como cópia de ls, altere o primeiro elemento e note que lsc não se alterou!"
   ]
  },
  {
   "cell_type": "markdown",
   "metadata": {},
   "source": [
    "Exercício 6: crie a tupla tl=(1,2). Tente alterar o primeiro elemento. Verifique o resultado. Tupla é imutável!"
   ]
  },
  {
   "cell_type": "code",
   "execution_count": 10,
   "metadata": {},
   "outputs": [
    {
     "ename": "TypeError",
     "evalue": "'tuple' object does not support item assignment",
     "output_type": "error",
     "traceback": [
      "\u001b[1;31m---------------------------------------------------------------------------\u001b[0m",
      "\u001b[1;31mTypeError\u001b[0m                                 Traceback (most recent call last)",
      "\u001b[1;32m<ipython-input-10-f19c2fec8979>\u001b[0m in \u001b[0;36m<module>\u001b[1;34m()\u001b[0m\n\u001b[0;32m      1\u001b[0m \u001b[0mtl\u001b[0m\u001b[1;33m=\u001b[0m\u001b[1;33m(\u001b[0m\u001b[1;36m1\u001b[0m\u001b[1;33m,\u001b[0m\u001b[1;36m2\u001b[0m\u001b[1;33m)\u001b[0m\u001b[1;33m\u001b[0m\u001b[0m\n\u001b[1;32m----> 2\u001b[1;33m \u001b[0mtl\u001b[0m\u001b[1;33m[\u001b[0m\u001b[1;36m0\u001b[0m\u001b[1;33m]\u001b[0m\u001b[1;33m=\u001b[0m\u001b[1;36m7\u001b[0m\u001b[1;33m\u001b[0m\u001b[0m\n\u001b[0m",
      "\u001b[1;31mTypeError\u001b[0m: 'tuple' object does not support item assignment"
     ]
    }
   ],
   "source": [
    "tl=(1,2)\n",
    "tl[0]=7"
   ]
  },
  {
   "cell_type": "markdown",
   "metadata": {},
   "source": [
    "Exercício 7: Crie um dicionário \"dct\" de telefones(ints) joão: 1234, maria :5678, carlos: 7899. Depois insira marcelo:7777. Tente mostrar o número de uma chave inexistente 'ana' e de uma existente (carlos)."
   ]
  },
  {
   "cell_type": "code",
   "execution_count": 11,
   "metadata": {},
   "outputs": [
    {
     "data": {
      "text/plain": [
       "({'carlos': 7899, 'joão': 1234, 'marcelo': 7777, 'maria': 1234}, 7899)"
      ]
     },
     "execution_count": 11,
     "metadata": {},
     "output_type": "execute_result"
    }
   ],
   "source": [
    "dct={'joão':1234,'maria':1234,'carlos':7899}\n",
    "dct['marcelo']=7777\n",
    "dct,dct['carlos']\n"
   ]
  },
  {
   "cell_type": "code",
   "execution_count": 12,
   "metadata": {},
   "outputs": [
    {
     "ename": "KeyError",
     "evalue": "'ana'",
     "output_type": "error",
     "traceback": [
      "\u001b[1;31m---------------------------------------------------------------------------\u001b[0m",
      "\u001b[1;31mKeyError\u001b[0m                                  Traceback (most recent call last)",
      "\u001b[1;32m<ipython-input-12-dae461b0a807>\u001b[0m in \u001b[0;36m<module>\u001b[1;34m()\u001b[0m\n\u001b[1;32m----> 1\u001b[1;33m \u001b[0mdct\u001b[0m\u001b[1;33m[\u001b[0m\u001b[1;34m'ana'\u001b[0m\u001b[1;33m]\u001b[0m\u001b[1;33m\u001b[0m\u001b[0m\n\u001b[0m",
      "\u001b[1;31mKeyError\u001b[0m: 'ana'"
     ]
    }
   ],
   "source": [
    "dct['ana']"
   ]
  },
  {
   "cell_type": "markdown",
   "metadata": {},
   "source": [
    "Exercício 8: Crie um conjunto de inteiros s1={1,2,3} e s2={3,4,5}. Obtenha a intersecção."
   ]
  },
  {
   "cell_type": "code",
   "execution_count": 13,
   "metadata": {},
   "outputs": [
    {
     "data": {
      "text/plain": [
       "{3}"
      ]
     },
     "execution_count": 13,
     "metadata": {},
     "output_type": "execute_result"
    }
   ],
   "source": [
    "s1={1,2,3}\n",
    "s2={3,4,5}\n",
    "s1&s2"
   ]
  },
  {
   "cell_type": "markdown",
   "metadata": {},
   "source": [
    "Exercício 9:crie uma lista de inteiros li=[1,2,4,6,7,12,0,22], crie uma lista vazia lp=[], percorra a lista li e insira em lp, os elementos pares de li. Eis nosso primeiro laço e primeiro if. Observe indentação para definir o início e final do laço (observe o :)"
   ]
  },
  {
   "cell_type": "code",
   "execution_count": 14,
   "metadata": {},
   "outputs": [
    {
     "data": {
      "text/plain": [
       "[2, 4, 6, 12, 0, 22]"
      ]
     },
     "execution_count": 14,
     "metadata": {},
     "output_type": "execute_result"
    }
   ],
   "source": [
    "li=[1,2,4,6,7,12,0,22]\n",
    "lp=[]\n",
    "for e in li:\n",
    "    if e%2==0: \n",
    "        lp.append(e)\n",
    "lp    \n"
   ]
  },
  {
   "cell_type": "markdown",
   "metadata": {},
   "source": [
    "Exercício 10:Ordene a lista l=[1,9,2,3,12,0] em ordem crescente. Depois ordene a lista l1=[(1,3),(7,2),(4,2)] pelo primeiro elemento"
   ]
  },
  {
   "cell_type": "code",
   "execution_count": 15,
   "metadata": {},
   "outputs": [
    {
     "name": "stdout",
     "output_type": "stream",
     "text": [
      "[0, 1, 2, 3, 9, 12]\n",
      "[(1, 3), (4, 2), (7, 2)]\n"
     ]
    }
   ],
   "source": [
    "l=[1,9,2,3,12,0]\n",
    "l.sort()\n",
    "print(l)\n",
    "l1=[(1,3),(7,2),(4,2)]\n",
    "l1.sort(key=lambda x:x[0])\n",
    "print(l1)"
   ]
  },
  {
   "cell_type": "markdown",
   "metadata": {},
   "source": [
    "Exercício 11:Crie uma lista de tuplas lt=[(0,4),(0,5),(1,6),(0,4),(2,6),(1,8)] o primeiro elemento da tupla é o id do usuário, o segundo é o produto adquirido.Apresente um dicionário com a lista dos produtos comprados por usuário."
   ]
  },
  {
   "cell_type": "code",
   "execution_count": 16,
   "metadata": {},
   "outputs": [
    {
     "data": {
      "text/plain": [
       "{0: [4, 5, 4], 1: [6, 8], 2: [6]}"
      ]
     },
     "execution_count": 16,
     "metadata": {},
     "output_type": "execute_result"
    }
   ],
   "source": [
    "lt=[(0,4),(0,5),(1,6),(0,4),(2,6),(1,8)]\n",
    "dct={}\n",
    "for e in lt:\n",
    "    if e[0] in dct:\n",
    "        dct[e[0]].append(e[1])\n",
    "    else: dct[e[0]]=[e[1]]\n",
    "\n",
    "dct\n"
   ]
  },
  {
   "cell_type": "markdown",
   "metadata": {},
   "source": [
    "Exercício 12: Partindo do dicionário dct do exerício 11, crie uma matriz produtos (0 a 9) nas colunas e usuários (0 a 2). A matriz será uma lista de listas. Cada lista será uma linha da matriz \"A\"."
   ]
  },
  {
   "cell_type": "code",
   "execution_count": 17,
   "metadata": {},
   "outputs": [
    {
     "data": {
      "text/plain": [
       "[[0, 0, 0, 0, 2, 1, 0, 0, 0, 0],\n",
       " [0, 0, 0, 0, 0, 0, 1, 0, 1, 0],\n",
       " [0, 0, 0, 0, 0, 0, 1, 0, 0, 0]]"
      ]
     },
     "execution_count": 17,
     "metadata": {},
     "output_type": "execute_result"
    }
   ],
   "source": [
    "AA=[]\n",
    "for i in range(3):\n",
    "    AA.append([])\n",
    "    for j in range(10):\n",
    "        AA[i].append(dct[i].count(j))#count(j) conta as ocorrências de j na lista dct[i]\n",
    "AA        "
   ]
  },
  {
   "cell_type": "markdown",
   "metadata": {},
   "source": [
    "Exercício 13: obtenha, a partir de dct[i], quantos produtos diferentes o usuário \"i\" comprou"
   ]
  },
  {
   "cell_type": "code",
   "execution_count": 18,
   "metadata": {},
   "outputs": [
    {
     "data": {
      "text/plain": [
       "2"
      ]
     },
     "execution_count": 18,
     "metadata": {},
     "output_type": "execute_result"
    }
   ],
   "source": [
    "i=0\n",
    "len(set(dct[i]))"
   ]
  },
  {
   "cell_type": "markdown",
   "metadata": {},
   "source": [
    "Exercício 14: crie uma função que devolve (com base em dct) os produtos comprados em comum por i e j"
   ]
  },
  {
   "cell_type": "code",
   "execution_count": 19,
   "metadata": {},
   "outputs": [
    {
     "data": {
      "text/plain": [
       "{6}"
      ]
     },
     "execution_count": 19,
     "metadata": {},
     "output_type": "execute_result"
    }
   ],
   "source": [
    "def sku_comum(i,j,dct):\n",
    "    si=set(dct[i])\n",
    "    sj=set(dct[j])\n",
    "    return si&sj\n",
    "sku_comum(1,2,dct)"
   ]
  },
  {
   "cell_type": "markdown",
   "metadata": {},
   "source": [
    "Exercício 15: Obtenha a matriz C pela multiplicação de A por B A=[[1,2],[3,4]] , B=[[3,1],[0,5]]"
   ]
  },
  {
   "cell_type": "code",
   "execution_count": 20,
   "metadata": {},
   "outputs": [
    {
     "data": {
      "text/plain": [
       "[[3, 11], [9, 23]]"
      ]
     },
     "execution_count": 20,
     "metadata": {},
     "output_type": "execute_result"
    }
   ],
   "source": [
    "A,B=[[1,2],[3,4]],[[3,1],[0,5]] #atribuição dupla em python\n",
    "C=[[0]*2,[0]*2]\n",
    "for i in range(2):\n",
    "    for j in range(2):\n",
    "        for k in range(2):\n",
    "            C[i][j]+=A[i][k]*B[k][j]\n",
    "C"
   ]
  },
  {
   "cell_type": "markdown",
   "metadata": {},
   "source": [
    "Exercicio 16: crie uma função norma(x) que recebe uma lista de inteiros e devolve a norma euclidiana desse \"vetor\". Teste-a com o vetor v=[1,0,3]"
   ]
  },
  {
   "cell_type": "code",
   "execution_count": 21,
   "metadata": {},
   "outputs": [
    {
     "name": "stdout",
     "output_type": "stream",
     "text": [
      "3.1622776601683795\n"
     ]
    }
   ],
   "source": [
    "import math\n",
    "def norma(x):\n",
    "    soma=0\n",
    "    for i in range(len(x)):\n",
    "        soma+=x[i]*x[i]\n",
    "    return math.sqrt(soma)\n",
    "print(norma([1,0,3]))"
   ]
  },
  {
   "cell_type": "markdown",
   "metadata": {},
   "source": [
    "Exercício 17:crie uma função intern(x) que recebe duas listas de inteiros (mesma dimensão) e devolve o produto interno desses \"vetores\""
   ]
  },
  {
   "cell_type": "code",
   "execution_count": 22,
   "metadata": {},
   "outputs": [
    {
     "name": "stdout",
     "output_type": "stream",
     "text": [
      "14\n"
     ]
    }
   ],
   "source": [
    "def intern(v1,v2):\n",
    "    soma=0\n",
    "    for i in range(len(v1)):\n",
    "        soma+=v1[i]*v2[i]\n",
    "    return soma\n",
    "print(intern([1,0,3],[2,1,4]))\n",
    "    "
   ]
  },
  {
   "cell_type": "markdown",
   "metadata": {},
   "source": [
    "Exercício 18: o cos entre dois vetores é dado por v1.v2/||v1||||v2|| . Crie a função cosvect que recebe duas listas e devolve o cos entre elas.Utilize as funçõae intern e norma já criadas"
   ]
  },
  {
   "cell_type": "code",
   "execution_count": 23,
   "metadata": {},
   "outputs": [
    {
     "data": {
      "text/plain": [
       "0.7071067811865475"
      ]
     },
     "execution_count": 23,
     "metadata": {},
     "output_type": "execute_result"
    }
   ],
   "source": [
    "def cosvect(v1,v2):\n",
    "    return intern(v1,v2)/(norma(v1)*norma(v2))\n",
    "cosvect([4,0],[4,4])"
   ]
  },
  {
   "cell_type": "markdown",
   "metadata": {},
   "source": [
    "Exercício 19: use a função cosvect como indicador de similaridade entre vetores. Obtenha a similaridade entre os usuários 1 e 2 do exercício 12, em função da similaridade entre as linhas 1 e 2 da matriz AA."
   ]
  },
  {
   "cell_type": "code",
   "execution_count": 24,
   "metadata": {},
   "outputs": [
    {
     "data": {
      "text/plain": [
       "0.7071067811865475"
      ]
     },
     "execution_count": 24,
     "metadata": {},
     "output_type": "execute_result"
    }
   ],
   "source": [
    "cosvect(AA[1],AA[2])"
   ]
  },
  {
   "cell_type": "markdown",
   "metadata": {},
   "source": [
    "Exercício 20:Crie a função emq(ye,y) \"erro médio quadrático\" que dá a soma dos quadrados das diferenças entre os valores estimados \"vetor ye\" e os valores reais \"y\". A soma deverá ser dividida pelo número de elementos de ye."
   ]
  },
  {
   "cell_type": "code",
   "execution_count": 25,
   "metadata": {},
   "outputs": [
    {
     "data": {
      "text/plain": [
       "0.4166666666666667"
      ]
     },
     "execution_count": 25,
     "metadata": {},
     "output_type": "execute_result"
    }
   ],
   "source": [
    "def emq(ye,y):\n",
    "    m=len(ye)\n",
    "    soma=0.0\n",
    "    for i in range(m):\n",
    "        soma+=(ye[i]-y[i])**2\n",
    "    return soma/m\n",
    "emq([1,2,3],[0.5,2,4])"
   ]
  },
  {
   "cell_type": "markdown",
   "metadata": {},
   "source": [
    "Exercício 21: Faça o gráfico (com bolas) da função y=x**2 para x=1,2,3,4 e 5. Use a biblioteca pyplot de matplotlib."
   ]
  },
  {
   "cell_type": "code",
   "execution_count": 26,
   "metadata": {},
   "outputs": [
    {
     "data": {
      "image/png": "[encoded data removed]",
      "text/plain": [
       "<Figure size 432x288 with 1 Axes>"
      ]
     },
     "metadata": {},
     "output_type": "display_data"
    }
   ],
   "source": [
    "import matplotlib.pyplot as plt\n",
    "for x in range(1,6):\n",
    "    plt.plot(x,x**2,'bo')\n",
    "plt.show()"
   ]
  },
  {
   "cell_type": "markdown",
   "metadata": {},
   "source": [
    "Exercício 22: Faça o gráfico (com bolas) da função sigmoid sig(x)=1/(1+e**-x) para x de -10 a +10 de 0.1 em 0.1. Crie a função sigmoid."
   ]
  },
  {
   "cell_type": "code",
   "execution_count": 27,
   "metadata": {},
   "outputs": [
    {
     "data": {
      "image/png": "[encoded data removed]",
      "text/plain": [
       "<Figure size 432x288 with 1 Axes>"
      ]
     },
     "metadata": {},
     "output_type": "display_data"
    }
   ],
   "source": [
    "def sigmoid(x):\n",
    "    return 1/(1+math.exp(-x))\n",
    "for i in range(41):\n",
    "    x=-10+i*0.5\n",
    "    plt.plot(x,sigmoid(x),'bo')\n",
    "plt.show()"
   ]
  }
 ],
 "metadata": {
  "kernelspec": {
   "display_name": "Python 3",
   "language": "python",
   "name": "python3"
  },
  "language_info": {
   "codemirror_mode": {
    "name": "ipython",
    "version": 3
   },
   "file_extension": ".py",
   "mimetype": "text/x-python",
   "name": "python",
   "nbconvert_exporter": "python",
   "pygments_lexer": "ipython3",
   "version": "3.6.3"
  }
 },
 "nbformat": 4,
 "nbformat_minor": 2
}
