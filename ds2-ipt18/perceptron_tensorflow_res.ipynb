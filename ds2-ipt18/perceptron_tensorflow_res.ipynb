{
  "nbformat": 4,
  "nbformat_minor": 0,
  "metadata": {
    "kernelspec": {
      "display_name": "Python 3",
      "language": "python",
      "name": "python3"
    },
    "language_info": {
      "codemirror_mode": {
        "name": "ipython",
        "version": 3
      },
      "file_extension": ".py",
      "mimetype": "text/x-python",
      "name": "python",
      "nbconvert_exporter": "python",
      "pygments_lexer": "ipython3",
      "version": "3.7.3"
    },
    "colab": {
      "name": "perceptron-tensorflow_res.ipynb",
      "provenance": []
    }
  },
  "cells": [
    {
      "cell_type": "markdown",
      "metadata": {
        "id": "1Q93dZrZ8rbo",
        "colab_type": "text"
      },
      "source": [
        "# Perceptron Tensorflow RES\n"
      ]
    },
    {
      "cell_type": "code",
      "metadata": {
        "id": "075jYE4WzDvA",
        "colab_type": "code",
        "outputId": "bb94a134-c84a-41e6-b101-57def6f6ca32",
        "colab": {
          "base_uri": "https://localhost:8080/",
          "height": 34
        }
      },
      "source": [
        "import tensorflow as tf\n",
        "import numpy as np\n",
        "\n",
        "w=tf.constant([-0.3,0.9],dtype=tf.float32)\n",
        "bias=tf.constant(2,dtype=tf.float32)\n",
        "inp=tf.placeholder(tf.float32,shape=([2]))\n",
        "soma=tf.add(tf.tensordot(w,inp,1),bias)\n",
        "out=tf.sigmoid(soma)\n",
        "\n",
        "\n",
        "with tf.Session() as sess:\n",
        "    result=sess.run(out, feed_dict={inp: [4.0,5.0]})\n",
        "    print(result)\n"
      ],
      "execution_count": 5,
      "outputs": [
        {
          "output_type": "stream",
          "text": [
            "0.99503314\n"
          ],
          "name": "stdout"
        }
      ]
    },
    {
      "cell_type": "code",
      "metadata": {
        "id": "RCXuMlA31wWl",
        "colab_type": "code",
        "colab": {}
      },
      "source": [
        ""
      ],
      "execution_count": 0,
      "outputs": []
    }
  ]
}