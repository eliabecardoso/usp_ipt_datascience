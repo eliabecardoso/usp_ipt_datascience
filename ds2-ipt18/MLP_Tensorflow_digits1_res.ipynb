{
  "nbformat": 4,
  "nbformat_minor": 0,
  "metadata": {
    "colab": {
      "name": "MLP_Tensorflow_digits1_res.ipynb",
      "provenance": []
    },
    "kernelspec": {
      "display_name": "Python 3",
      "language": "python",
      "name": "python3"
    },
    "language_info": {
      "codemirror_mode": {
        "name": "ipython",
        "version": 3
      },
      "file_extension": ".py",
      "mimetype": "text/x-python",
      "name": "python",
      "nbconvert_exporter": "python",
      "pygments_lexer": "ipython3",
      "version": "3.7.3"
    }
  },
  "cells": [
    {
      "cell_type": "markdown",
      "metadata": {
        "id": "e91uVEYQJvlb",
        "colab_type": "text"
      },
      "source": [
        "## MLP_Tensorflow_digits1_res"
      ]
    },
    {
      "cell_type": "code",
      "metadata": {
        "colab_type": "code",
        "id": "9gFDAtYvNRPE",
        "outputId": "b2abea5d-eace-4391-f875-cda7d40e2a8c",
        "colab": {
          "base_uri": "https://localhost:8080/",
          "height": 63
        }
      },
      "source": [
        "import numpy as np\n",
        "from sklearn.model_selection import train_test_split\n",
        "from sklearn.datasets import load_digits\n",
        "import matplotlib.pyplot as plt\n",
        "import random as r\n",
        "from sklearn.metrics import accuracy_score\n",
        "from sklearn.preprocessing import OneHotEncoder\n",
        "import tensorflow as tf\n"
      ],
      "execution_count": 1,
      "outputs": [
        {
          "output_type": "display_data",
          "data": {
            "text/html": [
              "<p style=\"color: red;\">\n",
              "The default version of TensorFlow in Colab will soon switch to TensorFlow 2.x.<br>\n",
              "We recommend you <a href=\"https://www.tensorflow.org/guide/migrate\" target=\"_blank\">upgrade</a> now \n",
              "or ensure your notebook will continue to use TensorFlow 1.x via the <code>%tensorflow_version 1.x</code> magic:\n",
              "<a href=\"https://colab.research.google.com/notebooks/tensorflow_version.ipynb\" target=\"_blank\">more info</a>.</p>\n"
            ],
            "text/plain": [
              "<IPython.core.display.HTML object>"
            ]
          },
          "metadata": {
            "tags": []
          }
        }
      ]
    },
    {
      "cell_type": "code",
      "metadata": {
        "colab_type": "code",
        "id": "QKY57AV9W4rw",
        "outputId": "dcd17527-2654-4a66-fda3-36593d088864",
        "colab": {
          "base_uri": "https://localhost:8080/",
          "height": 516
        }
      },
      "source": [
        "\n",
        "#importa a base de dígitos em tupla\n",
        "\n",
        "digits1 = load_digits(return_X_y=True)\n",
        "# em digits1[0] : vetores da imagem\n",
        "# em digits1[1] : classes reais das imagens (dígitos)\n",
        "X=np.array(list(digits1[0]))\n",
        "Y=np.array(list(digits1[1]))\n",
        "\n",
        "plt.gray() \n",
        "plt.matshow(X[0].reshape((8,8))) \n",
        "plt.show() \n",
        "\n",
        "\n",
        "\n",
        "\n",
        "enc = OneHotEncoder()\n",
        "YC=Y.copy()\n",
        "YR=YC.reshape((-1,1))\n",
        "print(YR)\n",
        "enc.fit(YR)\n",
        "YH=enc.transform(YR).toarray()\n",
        "print(YH[0])\n",
        "\n"
      ],
      "execution_count": 2,
      "outputs": [
        {
          "output_type": "display_data",
          "data": {
            "text/plain": [
              "<Figure size 432x288 with 0 Axes>"
            ]
          },
          "metadata": {
            "tags": []
          }
        },
        {
          "output_type": "display_data",
          "data": {
            "image/png": "[encoded data removed]",
            "text/plain": [
              "<Figure size 288x288 with 1 Axes>"
            ]
          },
          "metadata": {
            "tags": []
          }
        },
        {
          "output_type": "stream",
          "text": [
            "[[0]\n",
            " [1]\n",
            " [2]\n",
            " ...\n",
            " [8]\n",
            " [9]\n",
            " [8]]\n",
            "[1. 0. 0. 0. 0. 0. 0. 0. 0. 0.]\n"
          ],
          "name": "stdout"
        },
        {
          "output_type": "stream",
          "text": [
            "/usr/local/lib/python3.6/dist-packages/sklearn/preprocessing/_encoders.py:415: FutureWarning: The handling of integer data will change in version 0.22. Currently, the categories are determined based on the range [0, max(values)], while in the future they will be determined based on the unique values.\n",
            "If you want the future behaviour and silence this warning, you can specify \"categories='auto'\".\n",
            "In case you used a LabelEncoder before this OneHotEncoder to convert the categories to integers, then you can now use the OneHotEncoder directly.\n",
            "  warnings.warn(msg, FutureWarning)\n"
          ],
          "name": "stderr"
        }
      ]
    },
    {
      "cell_type": "code",
      "metadata": {
        "colab_type": "code",
        "id": "EE_wdBh_bKwp",
        "colab": {}
      },
      "source": [
        "W = {'hidden': tf.Variable(tf.random_normal([64, 20])),\n",
        "     'hidden_1': tf.Variable(tf.random_normal([20, 20])),\n",
        "     'output': tf.Variable(tf.random_normal([20, 10]))}\n",
        "\n",
        "    \n",
        "b = {'hidden': tf.Variable(tf.random_normal([20])),\n",
        "     'hidden_1': tf.Variable(tf.random_normal([20])),\n",
        "     'output': tf.Variable(tf.random_normal([10]))}"
      ],
      "execution_count": 0,
      "outputs": []
    },
    {
      "cell_type": "code",
      "metadata": {
        "colab_type": "code",
        "id": "Rw5mia8rZgMF",
        "colab": {}
      },
      "source": [
        "xx = tf.placeholder('float', [None, 64])\n",
        "yy = tf.placeholder('float', [None, 10])\n",
        "\n",
        "def rede(xx,W,b):\n",
        "  hidden = tf.nn.relu(tf.add(tf.matmul(xx, W['hidden']), b['hidden']))\n",
        "  hidden_1 = tf.nn.relu(tf.add(tf.matmul(hidden, W['hidden_1']), b['hidden_1']))\n",
        "  return tf.add(tf.matmul(hidden_1, W['output']), b['output'])\n",
        "\n",
        "model=rede(xx,W,b)\n",
        "    "
      ],
      "execution_count": 0,
      "outputs": []
    },
    {
      "cell_type": "code",
      "metadata": {
        "id": "InmY5_sDMoza",
        "colab_type": "code",
        "colab": {}
      },
      "source": [
        "X_train, X_test, y_train, y_test = train_test_split(\n",
        "    X, YH, test_size=0.30, random_state=42)"
      ],
      "execution_count": 0,
      "outputs": []
    },
    {
      "cell_type": "code",
      "metadata": {
        "colab_type": "code",
        "id": "wd2G5AphWpAB",
        "colab": {}
      },
      "source": [
        "loss = tf.reduce_mean(tf.nn.softmax_cross_entropy_with_logits_v2(logits = model, labels = y_train))\n",
        "opt = tf.train.AdamOptimizer(learning_rate = 0.01).minimize(loss)"
      ],
      "execution_count": 0,
      "outputs": []
    },
    {
      "cell_type": "code",
      "metadata": {
        "colab_type": "code",
        "id": "xIWWzGIrWCLq",
        "outputId": "06d22fb6-fd6c-4b13-83d7-608eeeb16136",
        "colab": {
          "base_uri": "https://localhost:8080/",
          "height": 1000
        }
      },
      "source": [
        "with tf.Session() as sess:\n",
        "    sess.run(tf.global_variables_initializer())\n",
        "    for epoca in range(20000):\n",
        "        sess.run(opt,feed_dict = {xx: X_train, yy: y_train})\n",
        "        if epoca%100==0:print(epoca,sess.run(loss,feed_dict={xx:X_train,yy:y_train}).mean())\n",
        "    W_final, b_final = sess.run([W, b])\n",
        "    ye_train=sess.run(tf.nn.softmax(model),feed_dict = {xx:X_train})\n",
        "    ye_test=sess.run(tf.nn.softmax(model),feed_dict = {xx:X_test})\n",
        "    \n"
      ],
      "execution_count": 13,
      "outputs": [
        {
          "output_type": "stream",
          "text": [
            "0 423.6897\n",
            "100 4.718359\n",
            "200 1.6369009\n",
            "300 1.0599339\n",
            "400 0.90298176\n",
            "500 0.81392086\n",
            "600 0.75608677\n",
            "700 0.7181088\n",
            "800 0.6855163\n",
            "900 0.6563034\n",
            "1000 0.6272301\n",
            "1100 0.6014593\n",
            "1200 0.58001685\n",
            "1300 0.58265406\n",
            "1400 0.5165345\n",
            "1500 0.49439192\n",
            "1600 0.4773865\n",
            "1700 0.4635144\n",
            "1800 0.45280594\n",
            "1900 0.4408093\n",
            "2000 0.42599067\n",
            "2100 0.4181473\n",
            "2200 0.40709525\n",
            "2300 0.4010251\n",
            "2400 0.39612368\n",
            "2500 0.38791975\n",
            "2600 0.38218507\n",
            "2700 0.36761904\n",
            "2800 0.3604392\n",
            "2900 0.35105556\n",
            "3000 0.34790832\n",
            "3100 0.34474182\n",
            "3200 0.33421925\n",
            "3300 0.32638073\n",
            "3400 0.32259613\n",
            "3500 0.31897825\n",
            "3600 0.3128853\n",
            "3700 0.30996776\n",
            "3800 0.3053139\n",
            "3900 0.30209836\n",
            "4000 0.30012697\n",
            "4100 0.28800872\n",
            "4200 0.27258128\n",
            "4300 0.26898268\n",
            "4400 0.2609388\n",
            "4500 0.2551003\n",
            "4600 0.25323853\n",
            "4700 0.24996133\n",
            "4800 0.24233848\n",
            "4900 0.23570131\n",
            "5000 0.23200169\n",
            "5100 0.22983533\n",
            "5200 0.22369447\n",
            "5300 0.21608599\n",
            "5400 0.21372482\n",
            "5500 0.20932259\n",
            "5600 0.20744978\n",
            "5700 0.20488295\n",
            "5800 0.20330107\n",
            "5900 0.20686126\n",
            "6000 0.19660275\n",
            "6100 0.19486374\n",
            "6200 0.19435914\n",
            "6300 0.19091108\n",
            "6400 0.18890882\n",
            "6500 0.18594566\n",
            "6600 0.48037052\n",
            "6700 0.15938602\n",
            "6800 0.15621871\n",
            "6900 0.15371566\n",
            "7000 0.15129124\n",
            "7100 0.14793989\n",
            "7200 0.14191908\n",
            "7300 0.13997886\n",
            "7400 0.12740867\n",
            "7500 0.12397014\n",
            "7600 0.12973808\n",
            "7700 0.112281285\n",
            "7800 0.10108743\n",
            "7900 0.094469324\n",
            "8000 0.09280733\n",
            "8100 0.09051114\n",
            "8200 0.090533935\n",
            "8300 0.08680026\n",
            "8400 0.084263794\n",
            "8500 0.08345113\n",
            "8600 0.08254101\n",
            "8700 0.08141849\n",
            "8800 0.07327371\n",
            "8900 0.069719315\n",
            "9000 0.06971108\n",
            "9100 0.067126475\n",
            "9200 0.066193484\n",
            "9300 0.065411635\n",
            "9400 0.0668431\n",
            "9500 0.06362618\n",
            "9600 0.060171\n",
            "9700 0.057079665\n",
            "9800 0.2611907\n",
            "9900 0.03632266\n",
            "10000 0.032055657\n",
            "10100 0.029767275\n",
            "10200 0.028839096\n",
            "10300 0.028676922\n",
            "10400 0.029476576\n",
            "10500 0.029132748\n",
            "10600 0.028941162\n",
            "10700 0.02878718\n",
            "10800 0.0285919\n",
            "10900 0.028478706\n",
            "11000 0.028463328\n",
            "11100 0.02827348\n",
            "11200 0.03116696\n",
            "11300 0.030306589\n",
            "11400 0.030206688\n",
            "11500 0.030051587\n",
            "11600 0.029910153\n",
            "11700 0.029803868\n",
            "11800 0.027981648\n",
            "11900 0.02309343\n",
            "12000 0.021534886\n",
            "12100 0.02245147\n",
            "12200 0.02225876\n",
            "12300 0.02222322\n",
            "12400 0.022057729\n",
            "12500 0.02195706\n",
            "12600 0.021885838\n",
            "12700 0.021830378\n",
            "12800 0.021784954\n",
            "12900 0.02174823\n",
            "13000 0.021717193\n",
            "13100 0.021690672\n",
            "13200 0.021668509\n",
            "13300 0.021650665\n",
            "13400 0.02163524\n",
            "13500 0.021622462\n",
            "13600 0.023496607\n",
            "13700 0.01299251\n",
            "13800 0.00899754\n",
            "13900 0.008930573\n",
            "14000 0.008890595\n",
            "14100 0.008862632\n",
            "14200 0.008841287\n",
            "14300 0.008825344\n",
            "14400 0.00881249\n",
            "14500 0.008801818\n",
            "14600 0.008792763\n",
            "14700 0.0087850485\n",
            "14800 0.008778427\n",
            "14900 0.008772634\n",
            "15000 0.008767328\n",
            "15100 0.008762641\n",
            "15200 0.008758574\n",
            "15300 0.008755019\n",
            "15400 0.00875187\n",
            "15500 0.00874908\n",
            "15600 0.008746547\n",
            "15700 0.008744223\n",
            "15800 0.008742072\n",
            "15900 0.008740072\n",
            "16000 0.0087382095\n",
            "16100 0.00873646\n",
            "16200 0.008734829\n",
            "16300 0.008733305\n",
            "16400 0.008731881\n",
            "16500 0.008730547\n",
            "16600 0.008729287\n",
            "16700 0.008728104\n",
            "16800 0.008726964\n",
            "16900 0.008725918\n",
            "17000 0.008724935\n",
            "17100 0.008724013\n",
            "17200 0.008723135\n",
            "17300 0.008722305\n",
            "17400 0.00872216\n",
            "17500 0.008720956\n",
            "17600 0.008720165\n",
            "17700 0.008719457\n",
            "17800 0.0087188\n",
            "17900 0.008718187\n",
            "18000 0.008717582\n",
            "18100 0.008717002\n",
            "18200 0.008716468\n",
            "18300 0.008715961\n",
            "18400 0.008715488\n",
            "18500 0.008715038\n",
            "18600 0.008714615\n",
            "18700 0.008713663\n",
            "18800 0.008713189\n",
            "18900 0.008712806\n",
            "19000 0.008712452\n",
            "19100 0.008712128\n",
            "19200 0.008711829\n",
            "19300 0.0092011215\n",
            "19400 0.008907453\n",
            "19500 0.00884277\n",
            "19600 0.008810317\n",
            "19700 0.008790186\n",
            "19800 0.008776335\n",
            "19900 0.008766129\n"
          ],
          "name": "stdout"
        }
      ]
    },
    {
      "cell_type": "code",
      "metadata": {
        "id": "EFeibrLMQQKv",
        "colab_type": "code",
        "colab": {}
      },
      "source": [
        "ye_tr=np.array([np.argmax(y) for y in ye_train])\n",
        "ye_ts=np.array([np.argmax(y) for y in ye_test])\n",
        "yt=np.array([np.argmax(y) for y in y_train])\n",
        "yts=np.array([np.argmax(y) for y in y_test])"
      ],
      "execution_count": 0,
      "outputs": []
    },
    {
      "cell_type": "code",
      "metadata": {
        "id": "CfnT9YSaQwTy",
        "colab_type": "code",
        "outputId": "9a085599-a855-4def-82d0-f841803ab907",
        "colab": {
          "base_uri": "https://localhost:8080/",
          "height": 34
        }
      },
      "source": [
        "from sklearn.metrics import accuracy_score\n",
        "accuracy_score(ye_tr,yt),accuracy_score(ye_ts,yts)\n"
      ],
      "execution_count": 15,
      "outputs": [
        {
          "output_type": "execute_result",
          "data": {
            "text/plain": [
              "(0.9960222752585521, 0.9018518518518519)"
            ]
          },
          "metadata": {
            "tags": []
          },
          "execution_count": 15
        }
      ]
    },
    {
      "cell_type": "code",
      "metadata": {
        "id": "OOQsGbdORvQK",
        "colab_type": "code",
        "colab": {}
      },
      "source": [
        ""
      ],
      "execution_count": 0,
      "outputs": []
    }
  ]
}