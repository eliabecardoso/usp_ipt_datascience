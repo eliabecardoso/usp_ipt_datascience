{
  "nbformat": 4,
  "nbformat_minor": 0,
  "metadata": {
    "kernelspec": {
      "display_name": "Python 3",
      "language": "python",
      "name": "python3"
    },
    "language_info": {
      "codemirror_mode": {
        "name": "ipython",
        "version": 3
      },
      "file_extension": ".py",
      "mimetype": "text/x-python",
      "name": "python",
      "nbconvert_exporter": "python",
      "pygments_lexer": "ipython3",
      "version": "3.7.3"
    },
    "colab": {
      "name": "logreg-tensorflow1_res.ipynb",
      "provenance": []
    }
  },
  "cells": [
    {
      "cell_type": "markdown",
      "metadata": {
        "id": "o4kvyM56-OWn",
        "colab_type": "text"
      },
      "source": [
        "# Logreg-tensorflow1_res\n"
      ]
    },
    {
      "cell_type": "code",
      "metadata": {
        "id": "PFYKkIad3h2J",
        "colab_type": "code",
        "colab": {
          "base_uri": "https://localhost:8080/",
          "height": 63
        },
        "outputId": "5ba7c0d7-8627-47ce-deda-2f2283906a6c"
      },
      "source": [
        "import tensorflow as tf\n",
        "import numpy as np\n",
        "X=tf.placeholder(dtype=tf.float32,shape=[None,2])\n",
        "y=tf.placeholder(dtype=tf.float32,shape=[None,1])\n",
        "XX=np.array([[4.0,2.0],[3.0,1.0],[5.0,4.0],[6.0,5.0],[1.0,0.0],[0.0,1.0],[2.0,4.0],[1.0,3.0],[3.0,5.0],[5.0,7.0]],dtype=float)\n",
        "YY=np.array([[0],[0],[0],[0],[0],[1],[1],[1],[1],[1]],dtype=float)\n",
        "\n",
        "\n"
      ],
      "execution_count": 1,
      "outputs": [
        {
          "output_type": "display_data",
          "data": {
            "text/html": [
              "<p style=\"color: red;\">\n",
              "The default version of TensorFlow in Colab will soon switch to TensorFlow 2.x.<br>\n",
              "We recommend you <a href=\"https://www.tensorflow.org/guide/migrate\" target=\"_blank\">upgrade</a> now \n",
              "or ensure your notebook will continue to use TensorFlow 1.x via the <code>%tensorflow_version 1.x</code> magic:\n",
              "<a href=\"https://colab.research.google.com/notebooks/tensorflow_version.ipynb\" target=\"_blank\">more info</a>.</p>\n"
            ],
            "text/plain": [
              "<IPython.core.display.HTML object>"
            ]
          },
          "metadata": {
            "tags": []
          }
        }
      ]
    },
    {
      "cell_type": "code",
      "metadata": {
        "id": "nkKjimfK3h2M",
        "colab_type": "code",
        "colab": {}
      },
      "source": [
        "w=tf.Variable(initial_value=[[0.5],[0.5]],dtype=tf.float32)\n",
        "bias = tf.Variable(initial_value=0.5,dtype=tf.float32)\n",
        "out=tf.add(tf.matmul(X,w),bias)\n"
      ],
      "execution_count": 0,
      "outputs": []
    },
    {
      "cell_type": "code",
      "metadata": {
        "id": "vdr32pgJAvn-",
        "colab_type": "code",
        "outputId": "cb9e678e-899a-4123-b1c5-aa1aac97fdb7",
        "colab": {
          "base_uri": "https://localhost:8080/",
          "height": 265
        }
      },
      "source": [
        "import matplotlib.pyplot as plt\n",
        "for i in range(len(YY)):\n",
        "  if YY[i,0]==1:\n",
        "    plt.plot(XX[i,0],XX[i,1],'ro')\n",
        "  else:plt.plot(XX[i,0],XX[i,1],'bo')\n",
        "plt.show()"
      ],
      "execution_count": 3,
      "outputs": [
        {
          "output_type": "display_data",
          "data": {
            "image/png": "[encoded data removed]",
            "text/plain": [
              "<Figure size 432x288 with 1 Axes>"
            ]
          },
          "metadata": {
            "tags": []
          }
        }
      ]
    },
    {
      "cell_type": "code",
      "metadata": {
        "id": "bjYNQmwt3h2R",
        "colab_type": "code",
        "outputId": "dbdcf180-5e8c-43b6-9eba-716404d83db3",
        "colab": {
          "base_uri": "https://localhost:8080/",
          "height": 153
        }
      },
      "source": [
        "loss=tf.nn.sigmoid_cross_entropy_with_logits(labels=y,logits=out)\n",
        "gradesc=tf.train.GradientDescentOptimizer(learning_rate=0.01).minimize(loss)\n",
        "\n",
        "epochs=1000\n",
        "\n",
        "\n",
        "with tf.Session() as sess:\n",
        "\n",
        "    sess.run(tf.initializers.global_variables())\n",
        "    for i in range(epochs):\n",
        "      for k in range(2):\n",
        "        sess.run(gradesc,feed_dict={X:XX[k*5:(k+1)*5],y:YY[k*5:(k+1)*5]})\n",
        "        if i%200==0 and k%2==0:print(i,sess.run(loss,feed_dict={X:XX,y:YY}).mean())\n",
        "     \n",
        "    print(sess.run(w),sess.run(bias))  \n",
        "    ye=sess.run(tf.sigmoid(out),feed_dict={X:XX})\n",
        " \n",
        "\n",
        "for i in range(len(ye)):\n",
        "  if ye[i,0]>0.5:ye[i,0]=1\n",
        "  else:ye[i,0]=0\n",
        "\n",
        "ye=ye.reshape((-1,))\n",
        "from sklearn.metrics import accuracy_score\n",
        "accuracy_score(ye,YY.reshape((-1,)))"
      ],
      "execution_count": 7,
      "outputs": [
        {
          "output_type": "stream",
          "text": [
            "0 1.4136264\n",
            "200 0.05225588\n",
            "400 0.028637866\n",
            "600 0.020057987\n",
            "800 0.015555876\n",
            "[[-3.324747 ]\n",
            " [ 3.0007548]] 0.18715477\n"
          ],
          "name": "stdout"
        },
        {
          "output_type": "execute_result",
          "data": {
            "text/plain": [
              "1.0"
            ]
          },
          "metadata": {
            "tags": []
          },
          "execution_count": 7
        }
      ]
    },
    {
      "cell_type": "code",
      "metadata": {
        "id": "NYauJ4xVB_Nr",
        "colab_type": "code",
        "colab": {}
      },
      "source": [
        ""
      ],
      "execution_count": 0,
      "outputs": []
    }
  ]
}