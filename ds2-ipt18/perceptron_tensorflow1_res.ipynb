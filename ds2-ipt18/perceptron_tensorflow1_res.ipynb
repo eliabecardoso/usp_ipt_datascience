{
  "nbformat": 4,
  "nbformat_minor": 0,
  "metadata": {
    "kernelspec": {
      "display_name": "Python 3",
      "language": "python",
      "name": "python3"
    },
    "language_info": {
      "codemirror_mode": {
        "name": "ipython",
        "version": 3
      },
      "file_extension": ".py",
      "mimetype": "text/x-python",
      "name": "python",
      "nbconvert_exporter": "python",
      "pygments_lexer": "ipython3",
      "version": "3.7.3"
    },
    "colab": {
      "name": "perceptron-tensorflow1_res.ipynb",
      "provenance": []
    }
  },
  "cells": [
    {
      "cell_type": "markdown",
      "metadata": {
        "id": "1Q93dZrZ8rbo",
        "colab_type": "text"
      },
      "source": [
        "# Perceptron Tensorflow 1 RES\n"
      ]
    },
    {
      "cell_type": "code",
      "metadata": {
        "id": "075jYE4WzDvA",
        "colab_type": "code",
        "outputId": "5f523aea-43cc-4a63-96e6-ad23dda96e0a",
        "colab": {
          "base_uri": "https://localhost:8080/",
          "height": 80
        }
      },
      "source": [
        "import tensorflow as tf\n",
        "import numpy as np\n",
        "\n",
        "w=tf.constant([2,-0.3,0.9],dtype=tf.float32)\n",
        "inp=tf.placeholder(tf.float32,shape=([3]))\n",
        "soma=tf.tensordot(w,inp,1)\n",
        "out=tf.sigmoid(soma)\n",
        "\n",
        "\n",
        "with tf.Session() as sess:\n",
        "    result=sess.run(out, feed_dict={inp: [1,4.0,5.0]})\n",
        "    print(result)\n"
      ],
      "execution_count": 1,
      "outputs": [
        {
          "output_type": "display_data",
          "data": {
            "text/html": [
              "<p style=\"color: red;\">\n",
              "The default version of TensorFlow in Colab will soon switch to TensorFlow 2.x.<br>\n",
              "We recommend you <a href=\"https://www.tensorflow.org/guide/migrate\" target=\"_blank\">upgrade</a> now \n",
              "or ensure your notebook will continue to use TensorFlow 1.x via the <code>%tensorflow_version 1.x</code> magic:\n",
              "<a href=\"https://colab.research.google.com/notebooks/tensorflow_version.ipynb\" target=\"_blank\">more info</a>.</p>\n"
            ],
            "text/plain": [
              "<IPython.core.display.HTML object>"
            ]
          },
          "metadata": {
            "tags": []
          }
        },
        {
          "output_type": "stream",
          "text": [
            "0.99503314\n"
          ],
          "name": "stdout"
        }
      ]
    },
    {
      "cell_type": "code",
      "metadata": {
        "id": "RCXuMlA31wWl",
        "colab_type": "code",
        "colab": {}
      },
      "source": [
        ""
      ],
      "execution_count": 0,
      "outputs": []
    }
  ]
}