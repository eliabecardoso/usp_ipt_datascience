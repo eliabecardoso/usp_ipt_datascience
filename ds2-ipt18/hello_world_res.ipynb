{
  "nbformat": 4,
  "nbformat_minor": 0,
  "metadata": {
    "colab": {
      "name": "hello_world_res.ipynb",
      "provenance": []
    },
    "kernelspec": {
      "name": "python3",
      "display_name": "Python 3"
    }
  },
  "cells": [
    {
      "cell_type": "markdown",
      "metadata": {
        "id": "PrJs5SxPy8gj",
        "colab_type": "text"
      },
      "source": [
        "# Hello World  res"
      ]
    },
    {
      "cell_type": "code",
      "metadata": {
        "id": "a8SQ4IvXzF1Z",
        "colab_type": "code",
        "colab": {
          "base_uri": "https://localhost:8080/",
          "height": 63
        },
        "outputId": "478f0052-5de3-44e6-a163-180305990dc9"
      },
      "source": [
        "import tensorflow as tf"
      ],
      "execution_count": 1,
      "outputs": [
        {
          "output_type": "display_data",
          "data": {
            "text/html": [
              "<p style=\"color: red;\">\n",
              "The default version of TensorFlow in Colab will soon switch to TensorFlow 2.x.<br>\n",
              "We recommend you <a href=\"https://www.tensorflow.org/guide/migrate\" target=\"_blank\">upgrade</a> now \n",
              "or ensure your notebook will continue to use TensorFlow 1.x via the <code>%tensorflow_version 1.x</code> magic:\n",
              "<a href=\"https://colab.research.google.com/notebooks/tensorflow_version.ipynb\" target=\"_blank\">more info</a>.</p>\n"
            ],
            "text/plain": [
              "<IPython.core.display.HTML object>"
            ]
          },
          "metadata": {
            "tags": []
          }
        }
      ]
    },
    {
      "cell_type": "code",
      "metadata": {
        "id": "-6wSfY4L3Pq8",
        "colab_type": "code",
        "colab": {}
      },
      "source": [
        "a=tf.Variable(15,dtype=tf.int32)\n",
        "b=tf.Variable(5,dtype=tf.int32)\n",
        "dv=tf.divide(tf.multiply(a,b),tf.add(a,b))"
      ],
      "execution_count": 0,
      "outputs": []
    },
    {
      "cell_type": "code",
      "metadata": {
        "id": "OGvGQsX23lej",
        "colab_type": "code",
        "colab": {
          "base_uri": "https://localhost:8080/",
          "height": 34
        },
        "outputId": "ec9fa62f-13af-47a2-b1fd-e87c1bb12fb4"
      },
      "source": [
        "with tf.Session() as sess:\n",
        "  sess.run(tf.initializers.global_variables())\n",
        "  print(sess.run(a),sess.run(b),sess.run(dv))"
      ],
      "execution_count": 6,
      "outputs": [
        {
          "output_type": "stream",
          "text": [
            "15 5 3.75\n"
          ],
          "name": "stdout"
        }
      ]
    }
  ]
}