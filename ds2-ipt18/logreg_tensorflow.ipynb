{
  "nbformat": 4,
  "nbformat_minor": 0,
  "metadata": {
    "kernelspec": {
      "display_name": "Python 3",
      "language": "python",
      "name": "python3"
    },
    "language_info": {
      "codemirror_mode": {
        "name": "ipython",
        "version": 3
      },
      "file_extension": ".py",
      "mimetype": "text/x-python",
      "name": "python",
      "nbconvert_exporter": "python",
      "pygments_lexer": "ipython3",
      "version": "3.7.3"
    },
    "colab": {
      "name": "logreg-tensorflow.ipynb",
      "provenance": []
    }
  },
  "cells": [
    {
      "cell_type": "markdown",
      "metadata": {
        "id": "o4kvyM56-OWn",
        "colab_type": "text"
      },
      "source": [
        "# Logreg-tensorflow\n"
      ]
    },
    {
      "cell_type": "code",
      "metadata": {
        "id": "PFYKkIad3h2J",
        "colab_type": "code",
        "colab": {}
      },
      "source": [
        "import tensorflow as tf\n",
        "import numpy as np\n",
        "X=tf.placeholder(dtype=tf.float32,shape=[None,2])\n",
        "y=tf.placeholder(dtype=tf.float32,shape=[None,1])\n",
        "XX=np.array([[4.0,2.0],[3.0,1.0],[5.0,4.0],[6.0,5.0],[1.0,0.0],[0.0,1.0],[2.0,4.0],[1.0,3.0],[3.0,5.0],[5.0,7.0]],dtype=float)\n",
        "YY=np.array([[0],[0],[0],[0],[0],[1],[1],[1],[1],[1]],dtype=float)\n",
        "\n",
        "\n"
      ],
      "execution_count": 0,
      "outputs": []
    },
    {
      "cell_type": "code",
      "metadata": {
        "id": "nkKjimfK3h2M",
        "colab_type": "code",
        "colab": {}
      },
      "source": [
        "w=tf.Variable(initial_value=[[0.5],[0.5]],dtype=tf.float32)\n",
        "bias = tf.Variable(initial_value=0.5,dtype=tf.float32)\n",
        "out=tf.add(tf.matmul(X,w),bias)\n"
      ],
      "execution_count": 0,
      "outputs": []
    },
    {
      "cell_type": "code",
      "metadata": {
        "id": "bjYNQmwt3h2R",
        "colab_type": "code",
        "outputId": "7a16cb20-cc5c-4c51-ebd8-27523389b2a8",
        "colab": {
          "base_uri": "https://localhost:8080/",
          "height": 221
        }
      },
      "source": [
        "loss=tf.nn.sigmoid_cross_entropy_with_logits(labels=y,logits=out)\n",
        "gradesc=tf.train.GradientDescentOptimizer(learning_rate=0.01).minimize(loss)\n",
        "\n",
        "epochs=2000\n",
        "\n",
        "\n",
        "with tf.Session() as sess:\n",
        "\n",
        "    sess.run(tf.initializers.global_variables())\n",
        "    for i in range(epochs):\n",
        "      \n",
        "\n",
        "      sess.run(gradesc,feed_dict={X:XX,y:YY})\n",
        "      if i%200==0:print(i,sess.run(loss,feed_dict={X:XX,y:YY}).mean())\n",
        "     \n",
        "    print(sess.run(w),sess.run(bias))  \n",
        "    \n",
        " \n",
        "\n"
      ],
      "execution_count": 7,
      "outputs": [
        {
          "output_type": "stream",
          "text": [
            "0 1.4251872\n",
            "200 0.05448413\n",
            "400 0.029415613\n",
            "600 0.020463508\n",
            "800 0.015808351\n",
            "1000 0.0129356785\n",
            "1200 0.010977938\n",
            "1400 0.009553952\n",
            "1600 0.008469363\n",
            "1800 0.007614409\n",
            "[[-3.8761406]\n",
            " [ 3.502592 ]] 0.18176\n"
          ],
          "name": "stdout"
        }
      ]
    },
    {
      "cell_type": "code",
      "metadata": {
        "id": "NYauJ4xVB_Nr",
        "colab_type": "code",
        "colab": {}
      },
      "source": [
        ""
      ],
      "execution_count": 0,
      "outputs": []
    }
  ]
}