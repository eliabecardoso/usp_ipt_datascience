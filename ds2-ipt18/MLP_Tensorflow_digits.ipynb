{
  "nbformat": 4,
  "nbformat_minor": 0,
  "metadata": {
    "colab": {
      "name": "MLP_Tensorflow_digits.ipynb",
      "provenance": []
    },
    "kernelspec": {
      "display_name": "Python 3",
      "language": "python",
      "name": "python3"
    },
    "language_info": {
      "codemirror_mode": {
        "name": "ipython",
        "version": 3
      },
      "file_extension": ".py",
      "mimetype": "text/x-python",
      "name": "python",
      "nbconvert_exporter": "python",
      "pygments_lexer": "ipython3",
      "version": "3.7.3"
    }
  },
  "cells": [
    {
      "cell_type": "markdown",
      "metadata": {
        "id": "e91uVEYQJvlb",
        "colab_type": "text"
      },
      "source": [
        "## MLP_Tensorflow_digits"
      ]
    },
    {
      "cell_type": "code",
      "metadata": {
        "colab_type": "code",
        "id": "9gFDAtYvNRPE",
        "outputId": "fadadf85-45dc-4b40-85f8-71b0d90c7d9c",
        "colab": {
          "base_uri": "https://localhost:8080/",
          "height": 63
        }
      },
      "source": [
        "import numpy as np\n",
        "from sklearn.model_selection import train_test_split\n",
        "from sklearn.datasets import load_digits\n",
        "import matplotlib.pyplot as plt\n",
        "import random as r\n",
        "from sklearn.metrics import accuracy_score\n",
        "from sklearn.preprocessing import OneHotEncoder\n",
        "import tensorflow as tf\n"
      ],
      "execution_count": 1,
      "outputs": [
        {
          "output_type": "display_data",
          "data": {
            "text/html": [
              "<p style=\"color: red;\">\n",
              "The default version of TensorFlow in Colab will soon switch to TensorFlow 2.x.<br>\n",
              "We recommend you <a href=\"https://www.tensorflow.org/guide/migrate\" target=\"_blank\">upgrade</a> now \n",
              "or ensure your notebook will continue to use TensorFlow 1.x via the <code>%tensorflow_version 1.x</code> magic:\n",
              "<a href=\"https://colab.research.google.com/notebooks/tensorflow_version.ipynb\" target=\"_blank\">more info</a>.</p>\n"
            ],
            "text/plain": [
              "<IPython.core.display.HTML object>"
            ]
          },
          "metadata": {
            "tags": []
          }
        }
      ]
    },
    {
      "cell_type": "code",
      "metadata": {
        "colab_type": "code",
        "id": "QKY57AV9W4rw",
        "colab": {}
      },
      "source": [
        "\n",
        "#importa a base de dígitos em tupla\n",
        "\n",
        "digits1 = load_digits(return_X_y=True)\n",
        "# em digits1[0] : vetores da imagem\n",
        "# em digits1[1] : classes reais das imagens (dígitos)\n",
        "X=np.array(list(digits1[0]))\n",
        "Y=np.array(list(digits1[1]))\n",
        "\n",
        "plt.gray() \n",
        "plt.matshow(X[0].reshape((8,8))) \n",
        "plt.show() \n",
        "\n",
        "\n",
        "\n",
        "\n",
        "enc = OneHotEncoder()\n",
        "YC=Y.copy()\n",
        "YR=YC.reshape((-1,1))\n",
        "print(YR)\n",
        "enc.fit(YR)\n",
        "YH=enc.transform(YR).toarray()\n",
        "print(YH[0])\n",
        "\n"
      ],
      "execution_count": 0,
      "outputs": []
    },
    {
      "cell_type": "code",
      "metadata": {
        "colab_type": "code",
        "id": "EE_wdBh_bKwp",
        "colab": {}
      },
      "source": [
        "W = {'hidden': tf.Variable(tf.random_normal([64, 20])),\n",
        "     'output': tf.Variable(tf.random_normal([20, 10]))}\n",
        "\n",
        "    \n",
        "b = {'hidden': tf.Variable(tf.random_normal([20])),\n",
        "     'output': tf.Variable(tf.random_normal([10]))}"
      ],
      "execution_count": 0,
      "outputs": []
    },
    {
      "cell_type": "code",
      "metadata": {
        "colab_type": "code",
        "id": "Rw5mia8rZgMF",
        "colab": {}
      },
      "source": [
        "xx = tf.placeholder('float', [None, 64])\n",
        "yy = tf.placeholder('float', [None, 10])\n",
        "\n",
        "def rede(xx,W,b):\n",
        "  hidden = tf.nn.relu(tf.add(tf.matmul(xx, W['hidden']), b['hidden']))\n",
        "  return tf.add(tf.matmul(hidden, W['output']), b['output'])\n",
        "\n",
        "model=rede(xx,W,b)\n",
        "    "
      ],
      "execution_count": 0,
      "outputs": []
    },
    {
      "cell_type": "code",
      "metadata": {
        "colab_type": "code",
        "id": "wd2G5AphWpAB",
        "colab": {}
      },
      "source": [
        "loss = tf.reduce_mean(tf.nn.softmax_cross_entropy_with_logits_v2(logits = model, labels = YH))\n",
        "opt = tf.train.AdamOptimizer(learning_rate = 0.001).minimize(loss)"
      ],
      "execution_count": 0,
      "outputs": []
    },
    {
      "cell_type": "code",
      "metadata": {
        "colab_type": "code",
        "id": "xIWWzGIrWCLq",
        "outputId": "85e91500-1dee-4515-e427-04e9c637ee2f",
        "colab": {
          "base_uri": "https://localhost:8080/",
          "height": 374
        }
      },
      "source": [
        "with tf.Session() as sess:\n",
        "    sess.run(tf.global_variables_initializer())\n",
        "    for epoca in range(2000):\n",
        "        sess.run(opt,feed_dict = {xx: X, yy: YH})\n",
        "        if epoca%100==0:print(epoca,sess.run(loss,feed_dict={xx:X,yy:YH}).mean())\n",
        "    W_final, b_final = sess.run([W, b])\n",
        "    #print(W_final,b_final)\n",
        "    y0=sess.run(tf.nn.softmax(model),feed_dict = {xx: [X[0]]})\n",
        "print(y0)"
      ],
      "execution_count": 16,
      "outputs": [
        {
          "output_type": "stream",
          "text": [
            "0 358.95465\n",
            "100 158.36458\n",
            "200 71.57927\n",
            "300 38.51889\n",
            "400 22.90644\n",
            "500 13.863345\n",
            "600 9.259169\n",
            "700 6.9343276\n",
            "800 5.480366\n",
            "900 4.452603\n",
            "1000 3.6760173\n",
            "1100 3.113828\n",
            "1200 2.6933517\n",
            "1300 2.3643472\n",
            "1400 2.0899231\n",
            "1500 1.8611803\n",
            "1600 1.6489277\n",
            "1700 1.4631948\n",
            "1800 1.2989255\n",
            "1900 1.1566517\n",
            "[[1. 0. 0. 0. 0. 0. 0. 0. 0. 0.]]\n"
          ],
          "name": "stdout"
        }
      ]
    }
  ]
}