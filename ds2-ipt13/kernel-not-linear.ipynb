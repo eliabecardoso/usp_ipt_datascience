{
 "cells": [
  {
   "cell_type": "markdown",
   "metadata": {},
   "source": [
    "# Kernel not Linear\n"
   ]
  },
  {
   "cell_type": "code",
   "execution_count": 2,
   "metadata": {
    "collapsed": true
   },
   "outputs": [],
   "source": [
    "from sklearn.model_selection import train_test_split\n",
    "from sklearn import svm\n",
    "import numpy as np\n",
    "import matplotlib.pyplot as plt\n",
    "import random as r\n",
    "from sklearn.metrics import accuracy_score\n",
    "import math\n"
   ]
  },
  {
   "cell_type": "code",
   "execution_count": 3,
   "metadata": {},
   "outputs": [
    {
     "data": {
      "image/png": "[encoded data removed]",
      "text/plain": [
       "<Figure size 432x288 with 1 Axes>"
      ]
     },
     "metadata": {},
     "output_type": "display_data"
    }
   ],
   "source": [
    "r.seed(1)\n",
    "\n",
    "X=[]\n",
    "y=[]\n",
    "\n",
    "for i in range(1000):\n",
    "    raio=4.0*r.random()\n",
    "    ang=6.28*r.random()\n",
    "    X.append([raio*math.cos(ang),raio*math.sin(ang)])\n",
    "    y.append(0)\n",
    "    \n",
    "for i in range(1000):\n",
    "    raio=3.0+4.0*r.random()\n",
    "    ang=6.28*r.random()\n",
    "    X.append([raio*math.cos(ang),raio*math.sin(ang)])\n",
    "    y.append(1)\n",
    "    \n",
    "for i in range(len(y)):\n",
    "    if(y[i]==0):plt.plot(X[i][0],X[i][1],'bo')\n",
    "    else:plt.plot(X[i][0],X[i][1],'ro')\n",
    "\n",
    "plt.show()\n"
   ]
  },
  {
   "cell_type": "code",
   "execution_count": 4,
   "metadata": {},
   "outputs": [
    {
     "name": "stdout",
     "output_type": "stream",
     "text": [
      "Accuracy train  0.9864285714285714\n",
      "Accuracy test  0.8766666666666667\n"
     ]
    }
   ],
   "source": [
    "X_train, X_test, y_train, y_test = train_test_split(\n",
    "    X, y, test_size=0.30)\n",
    "clf=svm.SVC(kernel='rbf',C=10,gamma=15)\n",
    "clf.fit(X_train,y_train)\n",
    "\n",
    "ye_train=clf.predict(X_train)\n",
    "\n",
    "print('Accuracy train ',accuracy_score(y_train,ye_train))\n",
    "        \n",
    "ye_test=clf.predict(X_test)\n",
    "       \n",
    "print('Accuracy test ',accuracy_score(y_test,ye_test))\n"
   ]
  },
  {
   "cell_type": "code",
   "execution_count": 6,
   "metadata": {
    "collapsed": true
   },
   "outputs": [
    {
     "name": "stdout",
     "output_type": "stream",
     "text": [
      "c= 0.01    g= 0.01  accuracy= 0.7416666666666667\n",
      "c= 0.01    g= 0.1  accuracy= 0.86\n",
      "c= 0.01    g= 1  accuracy= 0.705\n",
      "c= 0.01    g= 10  accuracy= 0.56\n",
      "c= 0.01    g= 100  accuracy= 0.5233333333333333\n",
      "c= 0.1    g= 0.01  accuracy= 0.8766666666666667\n",
      "c= 0.1    g= 0.1  accuracy= 0.8616666666666667\n",
      "c= 0.1    g= 1  accuracy= 0.86\n",
      "c= 0.1    g= 10  accuracy= 0.67\n",
      "c= 0.1    g= 100  accuracy= 0.5233333333333333\n",
      "c= 1    g= 0.01  accuracy= 0.8633333333333333\n",
      "c= 1    g= 0.1  accuracy= 0.8633333333333333\n",
      "c= 1    g= 1  accuracy= 0.86\n",
      "c= 1    g= 10  accuracy= 0.8683333333333333\n",
      "c= 1    g= 100  accuracy= 0.7716666666666666\n",
      "c= 10    g= 0.01  accuracy= 0.8616666666666667\n",
      "c= 10    g= 0.1  accuracy= 0.86\n",
      "c= 10    g= 1  accuracy= 0.8616666666666667\n",
      "c= 10    g= 10  accuracy= 0.8733333333333333\n",
      "c= 10    g= 100  accuracy= 0.7983333333333333\n",
      "c= 100    g= 0.01  accuracy= 0.8633333333333333\n",
      "c= 100    g= 0.1  accuracy= 0.8583333333333333\n",
      "c= 100    g= 1  accuracy= 0.8633333333333333\n",
      "c= 100    g= 10  accuracy= 0.8666666666666667\n",
      "c= 100    g= 100  accuracy= 0.7966666666666666\n",
      "acur= 0.8766666666666667  c= 0.1  gamma= 0.01\n"
     ]
    }
   ],
   "source": [
    "lc=[0.01,0.1,1,10,100]\n",
    "lg=[0.01,0.1,1,10,100]\n",
    "\n",
    "c_x=lc[0]\n",
    "g_x=lg[0]\n",
    "acur_x=0.5\n",
    "\n",
    "for c in lc:\n",
    "    for g in lg:\n",
    "        clf=svm.SVC(kernel='rbf',C=c,gamma=g)\n",
    "        #complete o código\n",
    "\n",
    "print('acur=',acur_x,' c=',c_x,' gamma=',g_x)\n",
    "    \n",
    "  "
   ]
  }
 ],
 "metadata": {
  "kernelspec": {
   "display_name": "Python 3",
   "language": "python",
   "name": "python3"
  },
  "language_info": {
   "codemirror_mode": {
    "name": "ipython",
    "version": 3
   },
   "file_extension": ".py",
   "mimetype": "text/x-python",
   "name": "python",
   "nbconvert_exporter": "python",
   "pygments_lexer": "ipython3",
   "version": "3.6.3"
  }
 },
 "nbformat": 4,
 "nbformat_minor": 2
}
