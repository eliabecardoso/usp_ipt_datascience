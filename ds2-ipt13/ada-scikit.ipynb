{
 "cells": [
  {
   "cell_type": "markdown",
   "metadata": {},
   "source": [
    "# Ada com scikit"
   ]
  },
  {
   "cell_type": "code",
   "execution_count": 2,
   "metadata": {
    "collapsed": true
   },
   "outputs": [],
   "source": [
    "from sklearn.ensemble import AdaBoostClassifier\n",
    "import numpy as np\n",
    "import matplotlib.pyplot as plt\n",
    "from sklearn.metrics import accuracy_score\n",
    "\n",
    "\n",
    "\n",
    "arq = open('c:\\\\dados\\\\ada.txt', 'r')\n",
    "texto = arq.readlines()\n",
    "arq.close()\n",
    "\n",
    "\n",
    "lx1=[]\n",
    "lx2=[]\n",
    "\n",
    "X=[]\n",
    "ly=[]\n",
    "\n",
    "for l in texto:\n",
    "   l1=l.split(\",\")\n",
    "   lx1.append(float(l1[0]))\n",
    "   lx2.append(float(l1[1]))\n",
    "   ly.append(float(l1[2]))\n",
    "   \n",
    "   \n",
    "\n",
    "X = np.array(list(zip(lx1,lx2)))\n",
    "\n",
    "\n",
    "Y=np.array(ly)\n"
   ]
  },
  {
   "cell_type": "code",
   "execution_count": 3,
   "metadata": {},
   "outputs": [
    {
     "data": {
      "image/png": "[encoded data removed]",
      "text/plain": [
       "<Figure size 432x288 with 1 Axes>"
      ]
     },
     "metadata": {},
     "output_type": "display_data"
    }
   ],
   "source": [
    "\n",
    "#Gráfico com as amostras para treinamento\n",
    "\n",
    "for i in range(len(X)):\n",
    "    if(Y[i]==1.0):plt.plot(X[i][0],X[i][1],'b+')\n",
    "    else:plt.plot(X[i][0],X[i][1],'ro')\n",
    "plt.title('Amostras para treinamento')    \n",
    "plt.show()\n",
    "\n"
   ]
  },
  {
   "cell_type": "markdown",
   "metadata": {},
   "source": [
    "Obter acurácia na amostra toda até atingir 100%\n",
    "variando o número de weak learners..de 1 para cima\n"
   ]
  },
  {
   "cell_type": "code",
   "execution_count": 9,
   "metadata": {
    "collapsed": true
   },
   "outputs": [
    {
     "name": "stdout",
     "output_type": "stream",
     "text": [
      "1 0.7\n",
      "2 0.9\n",
      "3 1.0\n"
     ]
    }
   ],
   "source": []
  }
 ],
 "metadata": {
  "kernelspec": {
   "display_name": "Python 3",
   "language": "python",
   "name": "python3"
  },
  "language_info": {
   "codemirror_mode": {
    "name": "ipython",
    "version": 3
   },
   "file_extension": ".py",
   "mimetype": "text/x-python",
   "name": "python",
   "nbconvert_exporter": "python",
   "pygments_lexer": "ipython3",
   "version": "3.6.3"
  }
 },
 "nbformat": 4,
 "nbformat_minor": 2
}
