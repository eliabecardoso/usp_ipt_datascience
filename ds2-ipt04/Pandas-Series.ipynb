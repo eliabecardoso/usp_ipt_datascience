{
 "cells": [
  {
   "cell_type": "markdown",
   "metadata": {},
   "source": [
    "# Pandas-Series"
   ]
  },
  {
   "cell_type": "code",
   "execution_count": 1,
   "metadata": {
    "collapsed": true
   },
   "outputs": [],
   "source": [
    "import pandas as pd\n",
    "import numpy as np"
   ]
  },
  {
   "cell_type": "code",
   "execution_count": 2,
   "metadata": {
    "collapsed": true
   },
   "outputs": [],
   "source": [
    "gm=pd.read_csv('c:\\\\dados\\\\gm_data.csv')"
   ]
  },
  {
   "cell_type": "markdown",
   "metadata": {},
   "source": [
    "Isso é um dataframe (bidimensional, veja abaixo), mas queremos uma série (unidimensional)"
   ]
  },
  {
   "cell_type": "code",
   "execution_count": 3,
   "metadata": {},
   "outputs": [
    {
     "data": {
      "text/html": [
       "<div>\n",
       "<style scoped>\n",
       "    .dataframe tbody tr th:only-of-type {\n",
       "        vertical-align: middle;\n",
       "    }\n",
       "\n",
       "    .dataframe tbody tr th {\n",
       "        vertical-align: top;\n",
       "    }\n",
       "\n",
       "    .dataframe thead th {\n",
       "        text-align: right;\n",
       "    }\n",
       "</style>\n",
       "<table border=\"1\" class=\"dataframe\">\n",
       "  <thead>\n",
       "    <tr style=\"text-align: right;\">\n",
       "      <th></th>\n",
       "      <th>date</th>\n",
       "      <th>open</th>\n",
       "      <th>high</th>\n",
       "      <th>low</th>\n",
       "      <th>close</th>\n",
       "      <th>volume</th>\n",
       "      <th>Name</th>\n",
       "    </tr>\n",
       "  </thead>\n",
       "  <tbody>\n",
       "    <tr>\n",
       "      <th>0</th>\n",
       "      <td>2013-02-08</td>\n",
       "      <td>28.54</td>\n",
       "      <td>28.73</td>\n",
       "      <td>28.50</td>\n",
       "      <td>28.57</td>\n",
       "      <td>6316645</td>\n",
       "      <td>GM</td>\n",
       "    </tr>\n",
       "    <tr>\n",
       "      <th>1</th>\n",
       "      <td>2013-02-11</td>\n",
       "      <td>28.51</td>\n",
       "      <td>28.65</td>\n",
       "      <td>28.35</td>\n",
       "      <td>28.53</td>\n",
       "      <td>5589830</td>\n",
       "      <td>GM</td>\n",
       "    </tr>\n",
       "    <tr>\n",
       "      <th>2</th>\n",
       "      <td>2013-02-12</td>\n",
       "      <td>28.43</td>\n",
       "      <td>28.75</td>\n",
       "      <td>28.24</td>\n",
       "      <td>28.55</td>\n",
       "      <td>7175443</td>\n",
       "      <td>GM</td>\n",
       "    </tr>\n",
       "    <tr>\n",
       "      <th>3</th>\n",
       "      <td>2013-02-13</td>\n",
       "      <td>28.75</td>\n",
       "      <td>28.87</td>\n",
       "      <td>28.44</td>\n",
       "      <td>28.67</td>\n",
       "      <td>9281737</td>\n",
       "      <td>GM</td>\n",
       "    </tr>\n",
       "    <tr>\n",
       "      <th>4</th>\n",
       "      <td>2013-02-14</td>\n",
       "      <td>28.74</td>\n",
       "      <td>29.36</td>\n",
       "      <td>27.67</td>\n",
       "      <td>27.75</td>\n",
       "      <td>19226730</td>\n",
       "      <td>GM</td>\n",
       "    </tr>\n",
       "  </tbody>\n",
       "</table>\n",
       "</div>"
      ],
      "text/plain": [
       "         date   open   high    low  close    volume Name\n",
       "0  2013-02-08  28.54  28.73  28.50  28.57   6316645   GM\n",
       "1  2013-02-11  28.51  28.65  28.35  28.53   5589830   GM\n",
       "2  2013-02-12  28.43  28.75  28.24  28.55   7175443   GM\n",
       "3  2013-02-13  28.75  28.87  28.44  28.67   9281737   GM\n",
       "4  2013-02-14  28.74  29.36  27.67  27.75  19226730   GM"
      ]
     },
     "execution_count": 3,
     "metadata": {},
     "output_type": "execute_result"
    }
   ],
   "source": [
    "gm.head()"
   ]
  },
  {
   "cell_type": "markdown",
   "metadata": {},
   "source": [
    "Para pegarmos uma série, selecionamos a coluna..."
   ]
  },
  {
   "cell_type": "code",
   "execution_count": 4,
   "metadata": {
    "collapsed": true
   },
   "outputs": [],
   "source": [
    "ms=pd.read_csv('c:\\\\dados\\\\gm_data.csv',usecols=['close'],squeeze=True)"
   ]
  },
  {
   "cell_type": "code",
   "execution_count": 5,
   "metadata": {},
   "outputs": [
    {
     "data": {
      "text/plain": [
       "0    28.57\n",
       "1    28.53\n",
       "2    28.55\n",
       "3    28.67\n",
       "4    27.75\n",
       "Name: close, dtype: float64"
      ]
     },
     "execution_count": 5,
     "metadata": {},
     "output_type": "execute_result"
    }
   ],
   "source": [
    "ms.head()"
   ]
  },
  {
   "cell_type": "markdown",
   "metadata": {
    "collapsed": true
   },
   "source": [
    "Vamos ver uma descrição básica dessa série (use .describe())\n"
   ]
  },
  {
   "cell_type": "code",
   "execution_count": 6,
   "metadata": {
    "collapsed": true
   },
   "outputs": [
    {
     "data": {
      "text/plain": [
       "count    1259.000000\n",
       "mean       34.552986\n",
       "std         3.777855\n",
       "min        26.330000\n",
       "25%        31.745000\n",
       "50%        34.530000\n",
       "75%        36.470000\n",
       "max        46.480000\n",
       "Name: close, dtype: float64"
      ]
     },
     "execution_count": 6,
     "metadata": {},
     "output_type": "execute_result"
    }
   ],
   "source": []
  },
  {
   "cell_type": "markdown",
   "metadata": {
    "collapsed": true
   },
   "source": [
    "Vamos criar um índice para essa série, a data...\n"
   ]
  },
  {
   "cell_type": "code",
   "execution_count": 15,
   "metadata": {
    "collapsed": true
   },
   "outputs": [
    {
     "data": {
      "text/plain": [
       "date\n",
       "2013-02-08    28.57\n",
       "2013-02-11    28.53\n",
       "2013-02-12    28.55\n",
       "2013-02-13    28.67\n",
       "2013-02-14    27.75\n",
       "Name: close, dtype: float64"
      ]
     },
     "execution_count": 15,
     "metadata": {},
     "output_type": "execute_result"
    }
   ],
   "source": []
  },
  {
   "cell_type": "markdown",
   "metadata": {},
   "source": [
    "Agora um gráfico dso 5 primeiros dias\n",
    "\n"
   ]
  },
  {
   "cell_type": "code",
   "execution_count": 14,
   "metadata": {
    "collapsed": true
   },
   "outputs": [
    {
     "data": {
      "image/png": "[encoded data removed]",
      "text/plain": [
       "<Figure size 432x288 with 1 Axes>"
      ]
     },
     "metadata": {},
     "output_type": "display_data"
    }
   ],
   "source": []
  },
  {
   "cell_type": "markdown",
   "metadata": {
    "collapsed": true
   },
   "source": [
    "Buscando só um elemento pelo índice  '2017-05-08'\n"
   ]
  },
  {
   "cell_type": "code",
   "execution_count": null,
   "metadata": {
    "collapsed": true
   },
   "outputs": [],
   "source": []
  },
  {
   "cell_type": "markdown",
   "metadata": {
    "collapsed": true
   },
   "source": [
    "Fazendo um slice '2017-01-08' a '2017-30-08'"
   ]
  },
  {
   "cell_type": "code",
   "execution_count": 20,
   "metadata": {
    "collapsed": true
   },
   "outputs": [
    {
     "data": {
      "text/plain": [
       "date\n",
       "2017-08-01    35.30\n",
       "2017-08-02    34.82\n",
       "2017-08-03    34.77\n",
       "2017-08-04    35.27\n",
       "2017-08-07    35.30\n",
       "2017-08-08    35.39\n",
       "2017-08-09    35.28\n",
       "2017-08-10    34.88\n",
       "2017-08-11    34.93\n",
       "2017-08-14    35.47\n",
       "2017-08-15    35.54\n",
       "2017-08-16    35.75\n",
       "2017-08-17    35.00\n",
       "2017-08-18    34.83\n",
       "2017-08-21    34.91\n",
       "2017-08-22    35.30\n",
       "2017-08-23    35.49\n",
       "2017-08-24    35.52\n",
       "2017-08-25    35.60\n",
       "2017-08-28    35.51\n",
       "2017-08-29    35.52\n",
       "2017-08-30    35.82\n",
       "Name: close, dtype: float64"
      ]
     },
     "execution_count": 20,
     "metadata": {},
     "output_type": "execute_result"
    }
   ],
   "source": []
  },
  {
   "cell_type": "markdown",
   "metadata": {
    "collapsed": true
   },
   "source": [
    "Buscando pela posição \"iloc\"  , segundo elemento da série\n"
   ]
  },
  {
   "cell_type": "code",
   "execution_count": 21,
   "metadata": {
    "collapsed": true
   },
   "outputs": [
    {
     "data": {
      "text/plain": [
       "28.53"
      ]
     },
     "execution_count": 21,
     "metadata": {},
     "output_type": "execute_result"
    }
   ],
   "source": []
  },
  {
   "cell_type": "markdown",
   "metadata": {},
   "source": [
    "Aumente os valores da série em 10%......é muito simples!\n"
   ]
  },
  {
   "cell_type": "code",
   "execution_count": 22,
   "metadata": {
    "collapsed": true
   },
   "outputs": [
    {
     "data": {
      "text/plain": [
       "date\n",
       "2013-02-08    31.427\n",
       "2013-02-11    31.383\n",
       "2013-02-12    31.405\n",
       "2013-02-13    31.537\n",
       "2013-02-14    30.525\n",
       "Name: close, dtype: float64"
      ]
     },
     "execution_count": 22,
     "metadata": {},
     "output_type": "execute_result"
    }
   ],
   "source": []
  },
  {
   "cell_type": "markdown",
   "metadata": {},
   "source": [
    "vamos trocar os elementos menores que 30 por 25.0\n"
   ]
  },
  {
   "cell_type": "code",
   "execution_count": 27,
   "metadata": {
    "collapsed": true
   },
   "outputs": [
    {
     "data": {
      "text/plain": [
       "date\n",
       "2013-02-08    31.427\n",
       "2013-02-11    31.383\n",
       "2013-02-12    31.405\n",
       "2013-02-13    31.537\n",
       "2013-02-14    30.525\n",
       "2013-02-15    30.536\n",
       "2013-02-19    30.448\n",
       "2013-02-20    25.000\n",
       "2013-02-21    25.000\n",
       "2013-02-22    25.000\n",
       "2013-02-25    25.000\n",
       "2013-02-26    25.000\n",
       "2013-02-27    30.140\n",
       "2013-02-28    25.000\n",
       "2013-03-01    25.000\n",
       "2013-03-04    25.000\n",
       "2013-03-05    30.338\n",
       "2013-03-06    30.701\n",
       "2013-03-07    30.668\n",
       "2013-03-08    30.800\n",
       "Name: close, dtype: float64"
      ]
     },
     "execution_count": 27,
     "metadata": {},
     "output_type": "execute_result"
    }
   ],
   "source": []
  },
  {
   "cell_type": "markdown",
   "metadata": {},
   "source": [
    "vamos aplicar uma função (+1) a todos os elementos da série (apply)"
   ]
  },
  {
   "cell_type": "code",
   "execution_count": 28,
   "metadata": {
    "collapsed": true
   },
   "outputs": [
    {
     "data": {
      "text/plain": [
       "date\n",
       "2013-02-08    32.427\n",
       "2013-02-11    32.383\n",
       "2013-02-12    32.405\n",
       "2013-02-13    32.537\n",
       "2013-02-14    31.525\n",
       "Name: close, dtype: float64"
      ]
     },
     "execution_count": 28,
     "metadata": {},
     "output_type": "execute_result"
    }
   ],
   "source": []
  },
  {
   "cell_type": "markdown",
   "metadata": {},
   "source": [
    "vamos criar uma série  à partir de uma lista ['sp','sp','mg','mg','rj']\n"
   ]
  },
  {
   "cell_type": "code",
   "execution_count": 29,
   "metadata": {
    "collapsed": true
   },
   "outputs": [
    {
     "data": {
      "text/plain": [
       "0    sp\n",
       "1    sp\n",
       "2    mg\n",
       "3    mg\n",
       "4    rj\n",
       "dtype: object"
      ]
     },
     "execution_count": 29,
     "metadata": {},
     "output_type": "execute_result"
    }
   ],
   "source": []
  },
  {
   "cell_type": "markdown",
   "metadata": {
    "collapsed": true
   },
   "source": [
    "Vamos mapear a série para valores, via dicionário {'sp':'mt','rj':'pi','mg':'go'}\n"
   ]
  },
  {
   "cell_type": "code",
   "execution_count": 31,
   "metadata": {
    "collapsed": true
   },
   "outputs": [
    {
     "data": {
      "text/plain": [
       "0     mt\n",
       "1     mt\n",
       "2    NaN\n",
       "3    NaN\n",
       "4     pi\n",
       "dtype: object"
      ]
     },
     "execution_count": 31,
     "metadata": {},
     "output_type": "execute_result"
    }
   ],
   "source": []
  },
  {
   "cell_type": "markdown",
   "metadata": {},
   "source": []
  }
 ],
 "metadata": {
  "kernelspec": {
   "display_name": "Python 3",
   "language": "python",
   "name": "python3"
  },
  "language_info": {
   "codemirror_mode": {
    "name": "ipython",
    "version": 3
   },
   "file_extension": ".py",
   "mimetype": "text/x-python",
   "name": "python",
   "nbconvert_exporter": "python",
   "pygments_lexer": "ipython3",
   "version": "3.6.3"
  }
 },
 "nbformat": 4,
 "nbformat_minor": 2
}
